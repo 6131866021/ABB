{
  "nbformat": 4,
  "nbformat_minor": 2,
  "metadata": {
    "colab": {
      "name": "Path Optimizer.ipynb",
      "provenance": [],
      "collapsed_sections": [
        "d2uRa0lc_zZO",
        "2igzOHeRg5Cc"
      ]
    },
    "kernelspec": {
      "name": "python3",
      "display_name": "Python 3.9.5 64-bit ('tf-gpu': conda)"
    },
    "language_info": {
      "name": "python",
      "version": "3.9.5",
      "mimetype": "text/x-python",
      "codemirror_mode": {
        "name": "ipython",
        "version": 3
      },
      "pygments_lexer": "ipython3",
      "nbconvert_exporter": "python",
      "file_extension": ".py"
    },
    "interpreter": {
      "hash": "40cdd3080bbe723fba5e16050ea2b1f018bb6a7b30a2927cc4b13ae24351a1c4"
    }
  },
  "cells": [
    {
      "cell_type": "markdown",
      "source": [
        "# Path Optimizer Project\n",
        "\n",
        "## By using training dataset from Palletizing"
      ],
      "metadata": {
        "id": "zvkMydA37c01"
      }
    },
    {
      "cell_type": "code",
      "execution_count": null,
      "source": [
        "import numpy as np\r\n",
        "import tensorflow as tf\r\n",
        "import pandas as pd\r\n",
        "import matplotlib.pyplot as plt\r\n",
        "import datetime\r\n",
        "\r\n",
        "from tensorflow import keras\r\n",
        "from tensorflow.keras import layers\r\n",
        "from tensorflow.keras.utils import plot_model\r\n",
        "from tensorboard.plugins.hparams import api as hp\r\n",
        "from tensorflow.keras.models import model_from_json\r\n",
        "# from sklearn.compose import make_column_transformer\r\n",
        "# from sklearn.preprocessing import MinMaxScaler, OneHotEncoder"
      ],
      "outputs": [
        {
          "output_type": "error",
          "ename": "ModuleNotFoundError",
          "evalue": "No module named 'tensorflow'",
          "traceback": [
            "\u001b[1;31m---------------------------------------------------------------------------\u001b[0m",
            "\u001b[1;31mModuleNotFoundError\u001b[0m                       Traceback (most recent call last)",
            "\u001b[1;32m<ipython-input-1-cf167efcbf94>\u001b[0m in \u001b[0;36m<module>\u001b[1;34m\u001b[0m\n\u001b[0;32m      1\u001b[0m \u001b[1;32mimport\u001b[0m \u001b[0mnumpy\u001b[0m \u001b[1;32mas\u001b[0m \u001b[0mnp\u001b[0m\u001b[1;33m\u001b[0m\u001b[1;33m\u001b[0m\u001b[0m\n\u001b[1;32m----> 2\u001b[1;33m \u001b[1;32mimport\u001b[0m \u001b[0mtensorflow\u001b[0m \u001b[1;32mas\u001b[0m \u001b[0mtf\u001b[0m\u001b[1;33m\u001b[0m\u001b[1;33m\u001b[0m\u001b[0m\n\u001b[0m\u001b[0;32m      3\u001b[0m \u001b[1;32mimport\u001b[0m \u001b[0mpandas\u001b[0m \u001b[1;32mas\u001b[0m \u001b[0mpd\u001b[0m\u001b[1;33m\u001b[0m\u001b[1;33m\u001b[0m\u001b[0m\n\u001b[0;32m      4\u001b[0m \u001b[1;32mimport\u001b[0m \u001b[0mmatplotlib\u001b[0m\u001b[1;33m.\u001b[0m\u001b[0mpyplot\u001b[0m \u001b[1;32mas\u001b[0m \u001b[0mplt\u001b[0m\u001b[1;33m\u001b[0m\u001b[1;33m\u001b[0m\u001b[0m\n\u001b[0;32m      5\u001b[0m \u001b[1;32mimport\u001b[0m \u001b[0mdatetime\u001b[0m\u001b[1;33m\u001b[0m\u001b[1;33m\u001b[0m\u001b[0m\n",
            "\u001b[1;31mModuleNotFoundError\u001b[0m: No module named 'tensorflow'"
          ]
        }
      ],
      "metadata": {
        "id": "eprjYD874ABO"
      }
    },
    {
      "cell_type": "markdown",
      "source": [
        "## Import csv data \n",
        "\n",
        "> [rws_train.csv](https://raw.githubusercontent.com/6131866021/ABB/main/PathPlan/rws_train.csv)"
      ],
      "metadata": {
        "id": "nu9lyHT1LaDR"
      }
    },
    {
      "cell_type": "code",
      "execution_count": null,
      "source": [
        "df = pd.read_csv('rws_train.csv')"
      ],
      "outputs": [
        {
          "output_type": "error",
          "ename": "NameError",
          "evalue": "name 'pd' is not defined",
          "traceback": [
            "\u001b[1;31m---------------------------------------------------------------------------\u001b[0m",
            "\u001b[1;31mNameError\u001b[0m                                 Traceback (most recent call last)",
            "\u001b[1;32m<ipython-input-1-156ccb771829>\u001b[0m in \u001b[0;36m<module>\u001b[1;34m\u001b[0m\n\u001b[1;32m----> 1\u001b[1;33m \u001b[0mdf\u001b[0m \u001b[1;33m=\u001b[0m \u001b[0mpd\u001b[0m\u001b[1;33m.\u001b[0m\u001b[0mread_csv\u001b[0m\u001b[1;33m(\u001b[0m\u001b[1;34m'rws_train.csv'\u001b[0m\u001b[1;33m)\u001b[0m\u001b[1;33m\u001b[0m\u001b[1;33m\u001b[0m\u001b[0m\n\u001b[0m",
            "\u001b[1;31mNameError\u001b[0m: name 'pd' is not defined"
          ]
        }
      ],
      "metadata": {
        "id": "M_gBZNGI4ABP"
      }
    },
    {
      "cell_type": "code",
      "execution_count": null,
      "source": [
        "df.head()"
      ],
      "outputs": [
        {
          "output_type": "execute_result",
          "data": {
            "text/plain": [
              "      A_X    A_Y     A_Z    B_X  ...      C_X      C_Y      C_Z   time\n",
              "0  1650.0  880.0  1220.0  187.5  ...  1312.60  1392.96  1306.42  3.192\n",
              "1  1670.0 -880.0  1205.0  210.0  ...   734.17 -1977.27   825.16  2.976\n",
              "2  1670.0 -880.0  1205.0  825.0  ...   892.59 -1236.88  1028.70  2.928\n",
              "3  1670.0 -880.0  1205.0  825.0  ...   892.59 -1236.88  1028.70  2.928\n",
              "4  1650.0  880.0  1220.0  662.5  ...   986.91  1552.88  1890.24  2.904\n",
              "\n",
              "[5 rows x 10 columns]"
            ],
            "text/html": [
              "<div>\n",
              "<style scoped>\n",
              "    .dataframe tbody tr th:only-of-type {\n",
              "        vertical-align: middle;\n",
              "    }\n",
              "\n",
              "    .dataframe tbody tr th {\n",
              "        vertical-align: top;\n",
              "    }\n",
              "\n",
              "    .dataframe thead th {\n",
              "        text-align: right;\n",
              "    }\n",
              "</style>\n",
              "<table border=\"1\" class=\"dataframe\">\n",
              "  <thead>\n",
              "    <tr style=\"text-align: right;\">\n",
              "      <th></th>\n",
              "      <th>A_X</th>\n",
              "      <th>A_Y</th>\n",
              "      <th>A_Z</th>\n",
              "      <th>B_X</th>\n",
              "      <th>B_Y</th>\n",
              "      <th>B_Z</th>\n",
              "      <th>C_X</th>\n",
              "      <th>C_Y</th>\n",
              "      <th>C_Z</th>\n",
              "      <th>time</th>\n",
              "    </tr>\n",
              "  </thead>\n",
              "  <tbody>\n",
              "    <tr>\n",
              "      <th>0</th>\n",
              "      <td>1650.0</td>\n",
              "      <td>880.0</td>\n",
              "      <td>1220.0</td>\n",
              "      <td>187.5</td>\n",
              "      <td>2647.5</td>\n",
              "      <td>482.0</td>\n",
              "      <td>1312.60</td>\n",
              "      <td>1392.96</td>\n",
              "      <td>1306.42</td>\n",
              "      <td>3.192</td>\n",
              "    </tr>\n",
              "    <tr>\n",
              "      <th>1</th>\n",
              "      <td>1670.0</td>\n",
              "      <td>-880.0</td>\n",
              "      <td>1205.0</td>\n",
              "      <td>210.0</td>\n",
              "      <td>-2675.0</td>\n",
              "      <td>672.0</td>\n",
              "      <td>734.17</td>\n",
              "      <td>-1977.27</td>\n",
              "      <td>825.16</td>\n",
              "      <td>2.976</td>\n",
              "    </tr>\n",
              "    <tr>\n",
              "      <th>2</th>\n",
              "      <td>1670.0</td>\n",
              "      <td>-880.0</td>\n",
              "      <td>1205.0</td>\n",
              "      <td>825.0</td>\n",
              "      <td>-2600.0</td>\n",
              "      <td>467.0</td>\n",
              "      <td>892.59</td>\n",
              "      <td>-1236.88</td>\n",
              "      <td>1028.70</td>\n",
              "      <td>2.928</td>\n",
              "    </tr>\n",
              "    <tr>\n",
              "      <th>3</th>\n",
              "      <td>1670.0</td>\n",
              "      <td>-880.0</td>\n",
              "      <td>1205.0</td>\n",
              "      <td>825.0</td>\n",
              "      <td>-2600.0</td>\n",
              "      <td>467.0</td>\n",
              "      <td>892.59</td>\n",
              "      <td>-1236.88</td>\n",
              "      <td>1028.70</td>\n",
              "      <td>2.928</td>\n",
              "    </tr>\n",
              "    <tr>\n",
              "      <th>4</th>\n",
              "      <td>1650.0</td>\n",
              "      <td>880.0</td>\n",
              "      <td>1220.0</td>\n",
              "      <td>662.5</td>\n",
              "      <td>2647.5</td>\n",
              "      <td>482.0</td>\n",
              "      <td>986.91</td>\n",
              "      <td>1552.88</td>\n",
              "      <td>1890.24</td>\n",
              "      <td>2.904</td>\n",
              "    </tr>\n",
              "  </tbody>\n",
              "</table>\n",
              "</div>"
            ]
          },
          "metadata": {
            "tags": []
          },
          "execution_count": 51
        }
      ],
      "metadata": {
        "colab": {
          "base_uri": "https://localhost:8080/"
        },
        "id": "bRl5FciT4ABQ",
        "outputId": "c1600ce4-81dd-463d-8d9d-fe60d3c8f2b9"
      }
    },
    {
      "cell_type": "code",
      "execution_count": null,
      "source": [
        "df.info()"
      ],
      "outputs": [
        {
          "output_type": "stream",
          "name": "stdout",
          "text": [
            "<class 'pandas.core.frame.DataFrame'>\n",
            "RangeIndex: 2578 entries, 0 to 2577\n",
            "Data columns (total 10 columns):\n",
            " #   Column  Non-Null Count  Dtype  \n",
            "---  ------  --------------  -----  \n",
            " 0   A_X     2578 non-null   float64\n",
            " 1   A_Y     2578 non-null   float64\n",
            " 2   A_Z     2578 non-null   float64\n",
            " 3   B_X     2578 non-null   float64\n",
            " 4   B_Y     2578 non-null   float64\n",
            " 5   B_Z     2578 non-null   float64\n",
            " 6   C_X     2578 non-null   float64\n",
            " 7   C_Y     2578 non-null   float64\n",
            " 8   C_Z     2578 non-null   float64\n",
            " 9   time    2578 non-null   float64\n",
            "dtypes: float64(10)\n",
            "memory usage: 201.5 KB\n"
          ]
        }
      ],
      "metadata": {
        "colab": {
          "base_uri": "https://localhost:8080/"
        },
        "id": "VzKGYzFt4ABR",
        "outputId": "b405cccb-f004-49a9-e5e7-a9437d8758d4"
      }
    },
    {
      "cell_type": "markdown",
      "source": [
        "> Split data into train and test set 20%"
      ],
      "metadata": {
        "id": "d1K9mA-AMbnj"
      }
    },
    {
      "cell_type": "code",
      "execution_count": null,
      "source": [
        "from sklearn.model_selection import train_test_split\n",
        "\n",
        "X = df.drop(\"time\", axis=1)\n",
        "y = df[\"time\"]\n",
        "X_train, X_test, y_train, y_test = train_test_split(X, y, test_size=0.2, random_state=42)\n",
        "\n",
        "len(X), len(X_train), len(X_test), len(y_train), len(y_test)"
      ],
      "outputs": [
        {
          "output_type": "execute_result",
          "data": {
            "text/plain": [
              "(2578, 2062, 516, 2062, 516)"
            ]
          },
          "metadata": {
            "tags": []
          },
          "execution_count": 53
        }
      ],
      "metadata": {
        "colab": {
          "base_uri": "https://localhost:8080/"
        },
        "id": "F70JEtd_4ABR",
        "outputId": "5615c5de-f222-4b7e-e9f6-019803f66df5"
      }
    },
    {
      "cell_type": "code",
      "execution_count": null,
      "source": [
        "X_train.head()"
      ],
      "outputs": [
        {
          "output_type": "execute_result",
          "data": {
            "text/plain": [
              "         A_X    A_Y     A_Z    B_X     B_Y    B_Z      C_X      C_Y      C_Z\n",
              "1706  1670.0 -880.0  1205.0  210.0 -2435.0  672.0   870.12 -1297.93  1049.14\n",
              "2452  1650.0  880.0  1220.0  600.0  2360.0  702.0  1081.19  2045.28   928.76\n",
              "2189  1670.0 -880.0  1205.0  990.0 -2045.0  467.0  1374.73 -1390.75   888.21\n",
              "361   1670.0 -880.0  1205.0  210.0 -2675.0  672.0   704.31 -1873.64   922.87\n",
              "2093  1650.0  880.0  1220.0  250.0  2010.0  702.0   944.13  1507.86  1022.36"
            ],
            "text/html": [
              "<div>\n",
              "<style scoped>\n",
              "    .dataframe tbody tr th:only-of-type {\n",
              "        vertical-align: middle;\n",
              "    }\n",
              "\n",
              "    .dataframe tbody tr th {\n",
              "        vertical-align: top;\n",
              "    }\n",
              "\n",
              "    .dataframe thead th {\n",
              "        text-align: right;\n",
              "    }\n",
              "</style>\n",
              "<table border=\"1\" class=\"dataframe\">\n",
              "  <thead>\n",
              "    <tr style=\"text-align: right;\">\n",
              "      <th></th>\n",
              "      <th>A_X</th>\n",
              "      <th>A_Y</th>\n",
              "      <th>A_Z</th>\n",
              "      <th>B_X</th>\n",
              "      <th>B_Y</th>\n",
              "      <th>B_Z</th>\n",
              "      <th>C_X</th>\n",
              "      <th>C_Y</th>\n",
              "      <th>C_Z</th>\n",
              "    </tr>\n",
              "  </thead>\n",
              "  <tbody>\n",
              "    <tr>\n",
              "      <th>1706</th>\n",
              "      <td>1670.0</td>\n",
              "      <td>-880.0</td>\n",
              "      <td>1205.0</td>\n",
              "      <td>210.0</td>\n",
              "      <td>-2435.0</td>\n",
              "      <td>672.0</td>\n",
              "      <td>870.12</td>\n",
              "      <td>-1297.93</td>\n",
              "      <td>1049.14</td>\n",
              "    </tr>\n",
              "    <tr>\n",
              "      <th>2452</th>\n",
              "      <td>1650.0</td>\n",
              "      <td>880.0</td>\n",
              "      <td>1220.0</td>\n",
              "      <td>600.0</td>\n",
              "      <td>2360.0</td>\n",
              "      <td>702.0</td>\n",
              "      <td>1081.19</td>\n",
              "      <td>2045.28</td>\n",
              "      <td>928.76</td>\n",
              "    </tr>\n",
              "    <tr>\n",
              "      <th>2189</th>\n",
              "      <td>1670.0</td>\n",
              "      <td>-880.0</td>\n",
              "      <td>1205.0</td>\n",
              "      <td>990.0</td>\n",
              "      <td>-2045.0</td>\n",
              "      <td>467.0</td>\n",
              "      <td>1374.73</td>\n",
              "      <td>-1390.75</td>\n",
              "      <td>888.21</td>\n",
              "    </tr>\n",
              "    <tr>\n",
              "      <th>361</th>\n",
              "      <td>1670.0</td>\n",
              "      <td>-880.0</td>\n",
              "      <td>1205.0</td>\n",
              "      <td>210.0</td>\n",
              "      <td>-2675.0</td>\n",
              "      <td>672.0</td>\n",
              "      <td>704.31</td>\n",
              "      <td>-1873.64</td>\n",
              "      <td>922.87</td>\n",
              "    </tr>\n",
              "    <tr>\n",
              "      <th>2093</th>\n",
              "      <td>1650.0</td>\n",
              "      <td>880.0</td>\n",
              "      <td>1220.0</td>\n",
              "      <td>250.0</td>\n",
              "      <td>2010.0</td>\n",
              "      <td>702.0</td>\n",
              "      <td>944.13</td>\n",
              "      <td>1507.86</td>\n",
              "      <td>1022.36</td>\n",
              "    </tr>\n",
              "  </tbody>\n",
              "</table>\n",
              "</div>"
            ]
          },
          "metadata": {
            "tags": []
          },
          "execution_count": 54
        }
      ],
      "metadata": {
        "colab": {
          "base_uri": "https://localhost:8080/"
        },
        "id": "Oz-5_MVe4ABR",
        "outputId": "f4f355ce-d469-4005-f212-0dae11687309"
      }
    },
    {
      "cell_type": "markdown",
      "source": [
        "## Build deep learning model with Keras Tensorflow"
      ],
      "metadata": {
        "id": "aeZTcfZfNSgy"
      }
    },
    {
      "cell_type": "markdown",
      "source": [
        "**5 modelling experiments**\n",
        "\n",
        "1. `model_1` - {Layer: 1, Activation: none, Optimizers: Adam, Loss: mse} \n",
        "2. `model_2` - {Layer: 2, Activation: linear, Optimizers: Adam, Loss: mse} \n",
        "3. `model_3` - {Layer: 3, Activation: linear, Optimizers: Adam, Loss: mse} \n",
        "4. `model_4` - \n",
        "5. `model_5` -"
      ],
      "metadata": {
        "id": "FQMqJxx8Ouvu"
      }
    },
    {
      "cell_type": "markdown",
      "source": [
        "> Define important functions"
      ],
      "metadata": {
        "id": "Of2PtIr4IJl0"
      }
    },
    {
      "cell_type": "code",
      "execution_count": null,
      "source": [
        "def add_ypreds(X_test, y_test, y_preds):\n",
        "  df = list()\n",
        "  for i in range(len(X_test)):\n",
        "    row = list(X_test.iloc[i])\n",
        "    row.append(y_test.iloc[i])\n",
        "    row.append(np.mean(y_preds[i]))\n",
        "    df.append(row)\n",
        "  return pd.DataFrame(df, columns=[\"A_X\", \"A_Y\", \"A_Z\", \"B_X\", \"B_Y\", \"B_Z\", \"C_X\", \"C_Y\", \"C_Z\", \"Time\", \"Predict Time\"])"
      ],
      "outputs": [],
      "metadata": {
        "id": "3aH9i5USIHNI"
      }
    },
    {
      "cell_type": "markdown",
      "source": [
        "### Build `model_1`"
      ],
      "metadata": {
        "id": "QMext2R9Asi6"
      }
    },
    {
      "cell_type": "markdown",
      "source": [
        "1. Layer: 1 \n",
        "2. Activation: none\n",
        "3. Optimizers: Adam\n",
        "4. Loss: mse"
      ],
      "metadata": {
        "id": "CxZeIaYPLPGz"
      }
    },
    {
      "cell_type": "code",
      "execution_count": null,
      "source": [
        "tf.random.set_seed(42)\n",
        "\n",
        "callback = tf.keras.callbacks.EarlyStopping(monitor='loss', patience=3)\n",
        "model_1 = tf.keras.Sequential([tf.keras.layers.Dense(100)])\n",
        "model_1.compile( loss=tf.keras.losses.mse,\n",
        "                  optimizer=tf.keras.optimizers.Adam(),\n",
        "                  metrics=[\"mse\"])\n",
        "model_1.fit(X_train, y_train, epochs=200, verbose=1, callbacks=[callback])"
      ],
      "outputs": [
        {
          "output_type": "stream",
          "name": "stdout",
          "text": [
            "Epoch 1/200\n",
            "65/65 [==============================] - 0s 1ms/step - loss: 138381.8750 - mse: 138381.8750\n",
            "Epoch 2/200\n",
            "65/65 [==============================] - 0s 1ms/step - loss: 28882.0371 - mse: 28882.0371\n",
            "Epoch 3/200\n",
            "65/65 [==============================] - 0s 1ms/step - loss: 8053.7168 - mse: 8053.7168\n",
            "Epoch 4/200\n",
            "65/65 [==============================] - 0s 1ms/step - loss: 4135.8755 - mse: 4135.8755\n",
            "Epoch 5/200\n",
            "65/65 [==============================] - 0s 1ms/step - loss: 3147.6082 - mse: 3147.6082\n",
            "Epoch 6/200\n",
            "65/65 [==============================] - 0s 2ms/step - loss: 2637.7456 - mse: 2637.7456\n",
            "Epoch 7/200\n",
            "65/65 [==============================] - 0s 1ms/step - loss: 2256.2439 - mse: 2256.2439\n",
            "Epoch 8/200\n",
            "65/65 [==============================] - 0s 1ms/step - loss: 1947.4229 - mse: 1947.4229\n",
            "Epoch 9/200\n",
            "65/65 [==============================] - 0s 1ms/step - loss: 1693.7062 - mse: 1693.7062\n",
            "Epoch 10/200\n",
            "65/65 [==============================] - 0s 1ms/step - loss: 1480.3278 - mse: 1480.3278\n",
            "Epoch 11/200\n",
            "65/65 [==============================] - 0s 1ms/step - loss: 1295.9143 - mse: 1295.9143\n",
            "Epoch 12/200\n",
            "65/65 [==============================] - 0s 1ms/step - loss: 1142.4427 - mse: 1142.4427\n",
            "Epoch 13/200\n",
            "65/65 [==============================] - 0s 1ms/step - loss: 1008.7624 - mse: 1008.7624\n",
            "Epoch 14/200\n",
            "65/65 [==============================] - 0s 1ms/step - loss: 895.7791 - mse: 895.7791\n",
            "Epoch 15/200\n",
            "65/65 [==============================] - 0s 1ms/step - loss: 796.7950 - mse: 796.7950\n",
            "Epoch 16/200\n",
            "65/65 [==============================] - 0s 1ms/step - loss: 710.5469 - mse: 710.5469\n",
            "Epoch 17/200\n",
            "65/65 [==============================] - 0s 1ms/step - loss: 637.4747 - mse: 637.4747\n",
            "Epoch 18/200\n",
            "65/65 [==============================] - 0s 1ms/step - loss: 570.1871 - mse: 570.1871\n",
            "Epoch 19/200\n",
            "65/65 [==============================] - 0s 1ms/step - loss: 513.2652 - mse: 513.2652\n",
            "Epoch 20/200\n",
            "65/65 [==============================] - 0s 1ms/step - loss: 463.6071 - mse: 463.6071\n",
            "Epoch 21/200\n",
            "65/65 [==============================] - 0s 1ms/step - loss: 420.3739 - mse: 420.3739\n",
            "Epoch 22/200\n",
            "65/65 [==============================] - 0s 1ms/step - loss: 380.2780 - mse: 380.2780\n",
            "Epoch 23/200\n",
            "65/65 [==============================] - 0s 1ms/step - loss: 345.8588 - mse: 345.8588\n",
            "Epoch 24/200\n",
            "65/65 [==============================] - 0s 1ms/step - loss: 316.8994 - mse: 316.8994\n",
            "Epoch 25/200\n",
            "65/65 [==============================] - 0s 1ms/step - loss: 289.2472 - mse: 289.2472\n",
            "Epoch 26/200\n",
            "65/65 [==============================] - 0s 1ms/step - loss: 266.3875 - mse: 266.3875\n",
            "Epoch 27/200\n",
            "65/65 [==============================] - 0s 1ms/step - loss: 243.7446 - mse: 243.7446\n",
            "Epoch 28/200\n",
            "65/65 [==============================] - 0s 1ms/step - loss: 225.2619 - mse: 225.2619\n",
            "Epoch 29/200\n",
            "65/65 [==============================] - 0s 1ms/step - loss: 207.6542 - mse: 207.6542\n",
            "Epoch 30/200\n",
            "65/65 [==============================] - 0s 1ms/step - loss: 192.4991 - mse: 192.4991\n",
            "Epoch 31/200\n",
            "65/65 [==============================] - 0s 1ms/step - loss: 178.8759 - mse: 178.8759\n",
            "Epoch 32/200\n",
            "65/65 [==============================] - 0s 1ms/step - loss: 166.0663 - mse: 166.0663\n",
            "Epoch 33/200\n",
            "65/65 [==============================] - 0s 1ms/step - loss: 155.1208 - mse: 155.1208\n",
            "Epoch 34/200\n",
            "65/65 [==============================] - 0s 1ms/step - loss: 144.2777 - mse: 144.2777\n",
            "Epoch 35/200\n",
            "65/65 [==============================] - 0s 1ms/step - loss: 134.2034 - mse: 134.2034\n",
            "Epoch 36/200\n",
            "65/65 [==============================] - 0s 1ms/step - loss: 125.5464 - mse: 125.5464\n",
            "Epoch 37/200\n",
            "65/65 [==============================] - 0s 1ms/step - loss: 117.1411 - mse: 117.1411\n",
            "Epoch 38/200\n",
            "65/65 [==============================] - 0s 1ms/step - loss: 109.9041 - mse: 109.9041\n",
            "Epoch 39/200\n",
            "65/65 [==============================] - 0s 1ms/step - loss: 102.8585 - mse: 102.8585\n",
            "Epoch 40/200\n",
            "65/65 [==============================] - 0s 1ms/step - loss: 96.3515 - mse: 96.3515\n",
            "Epoch 41/200\n",
            "65/65 [==============================] - 0s 1ms/step - loss: 90.0139 - mse: 90.0139\n",
            "Epoch 42/200\n",
            "65/65 [==============================] - 0s 1ms/step - loss: 84.5740 - mse: 84.5740\n",
            "Epoch 43/200\n",
            "65/65 [==============================] - 0s 1ms/step - loss: 79.5235 - mse: 79.5235\n",
            "Epoch 44/200\n",
            "65/65 [==============================] - 0s 1ms/step - loss: 74.3014 - mse: 74.3014\n",
            "Epoch 45/200\n",
            "65/65 [==============================] - 0s 1ms/step - loss: 69.5468 - mse: 69.5468\n",
            "Epoch 46/200\n",
            "65/65 [==============================] - 0s 1ms/step - loss: 65.6077 - mse: 65.6077\n",
            "Epoch 47/200\n",
            "65/65 [==============================] - 0s 1ms/step - loss: 61.5484 - mse: 61.5484\n",
            "Epoch 48/200\n",
            "65/65 [==============================] - 0s 1ms/step - loss: 57.5251 - mse: 57.5251\n",
            "Epoch 49/200\n",
            "65/65 [==============================] - 0s 1ms/step - loss: 54.0403 - mse: 54.0403\n",
            "Epoch 50/200\n",
            "65/65 [==============================] - 0s 1ms/step - loss: 50.9842 - mse: 50.9842\n",
            "Epoch 51/200\n",
            "65/65 [==============================] - 0s 1ms/step - loss: 47.8012 - mse: 47.8012\n",
            "Epoch 52/200\n",
            "65/65 [==============================] - 0s 1ms/step - loss: 44.7323 - mse: 44.7323\n",
            "Epoch 53/200\n",
            "65/65 [==============================] - 0s 1ms/step - loss: 42.2666 - mse: 42.2666\n",
            "Epoch 54/200\n",
            "65/65 [==============================] - 0s 1ms/step - loss: 39.7454 - mse: 39.7454\n",
            "Epoch 55/200\n",
            "65/65 [==============================] - 0s 1ms/step - loss: 36.8819 - mse: 36.8819\n",
            "Epoch 56/200\n",
            "65/65 [==============================] - 0s 1ms/step - loss: 34.5844 - mse: 34.5844\n",
            "Epoch 57/200\n",
            "65/65 [==============================] - 0s 1ms/step - loss: 32.3406 - mse: 32.3406\n",
            "Epoch 58/200\n",
            "65/65 [==============================] - 0s 1ms/step - loss: 30.2524 - mse: 30.2524\n",
            "Epoch 59/200\n",
            "65/65 [==============================] - 0s 1ms/step - loss: 28.4806 - mse: 28.4806\n",
            "Epoch 60/200\n",
            "65/65 [==============================] - 0s 1ms/step - loss: 26.6781 - mse: 26.6781\n",
            "Epoch 61/200\n",
            "65/65 [==============================] - 0s 1ms/step - loss: 25.0562 - mse: 25.0562\n",
            "Epoch 62/200\n",
            "65/65 [==============================] - 0s 1ms/step - loss: 23.3836 - mse: 23.3836\n",
            "Epoch 63/200\n",
            "65/65 [==============================] - 0s 1ms/step - loss: 21.7418 - mse: 21.7418\n",
            "Epoch 64/200\n",
            "65/65 [==============================] - 0s 1ms/step - loss: 20.1553 - mse: 20.1553\n",
            "Epoch 65/200\n",
            "65/65 [==============================] - 0s 1ms/step - loss: 18.8965 - mse: 18.8965\n",
            "Epoch 66/200\n",
            "65/65 [==============================] - 0s 1ms/step - loss: 17.5613 - mse: 17.5613\n",
            "Epoch 67/200\n",
            "65/65 [==============================] - 0s 1ms/step - loss: 16.3878 - mse: 16.3878\n",
            "Epoch 68/200\n",
            "65/65 [==============================] - 0s 1ms/step - loss: 15.3677 - mse: 15.3677\n",
            "Epoch 69/200\n",
            "65/65 [==============================] - 0s 1ms/step - loss: 14.2190 - mse: 14.2190\n",
            "Epoch 70/200\n",
            "65/65 [==============================] - 0s 1ms/step - loss: 13.2135 - mse: 13.2135\n",
            "Epoch 71/200\n",
            "65/65 [==============================] - 0s 1ms/step - loss: 12.3126 - mse: 12.3126\n",
            "Epoch 72/200\n",
            "65/65 [==============================] - 0s 1ms/step - loss: 11.4733 - mse: 11.4733\n",
            "Epoch 73/200\n",
            "65/65 [==============================] - 0s 1ms/step - loss: 10.7199 - mse: 10.7199\n",
            "Epoch 74/200\n",
            "65/65 [==============================] - 0s 1ms/step - loss: 9.9242 - mse: 9.9242\n",
            "Epoch 75/200\n",
            "65/65 [==============================] - 0s 1ms/step - loss: 9.1060 - mse: 9.1060\n",
            "Epoch 76/200\n",
            "65/65 [==============================] - 0s 1ms/step - loss: 8.4208 - mse: 8.4208\n",
            "Epoch 77/200\n",
            "65/65 [==============================] - 0s 1ms/step - loss: 7.7205 - mse: 7.7205\n",
            "Epoch 78/200\n",
            "65/65 [==============================] - 0s 1ms/step - loss: 7.1750 - mse: 7.1750\n",
            "Epoch 79/200\n",
            "65/65 [==============================] - 0s 1ms/step - loss: 6.6222 - mse: 6.6222\n",
            "Epoch 80/200\n",
            "65/65 [==============================] - 0s 1ms/step - loss: 6.0837 - mse: 6.0837\n",
            "Epoch 81/200\n",
            "65/65 [==============================] - 0s 1ms/step - loss: 5.7136 - mse: 5.7136\n",
            "Epoch 82/200\n",
            "65/65 [==============================] - 0s 1ms/step - loss: 5.3112 - mse: 5.3112\n",
            "Epoch 83/200\n",
            "65/65 [==============================] - 0s 1ms/step - loss: 4.6508 - mse: 4.6508\n",
            "Epoch 84/200\n",
            "65/65 [==============================] - 0s 1ms/step - loss: 4.2556 - mse: 4.2556\n",
            "Epoch 85/200\n",
            "65/65 [==============================] - 0s 1ms/step - loss: 3.9923 - mse: 3.9923\n",
            "Epoch 86/200\n",
            "65/65 [==============================] - 0s 1ms/step - loss: 3.6618 - mse: 3.6618\n",
            "Epoch 87/200\n",
            "65/65 [==============================] - 0s 1ms/step - loss: 3.3083 - mse: 3.3083\n",
            "Epoch 88/200\n",
            "65/65 [==============================] - 0s 1ms/step - loss: 2.9339 - mse: 2.9339\n",
            "Epoch 89/200\n",
            "65/65 [==============================] - 0s 1ms/step - loss: 2.6642 - mse: 2.6642\n",
            "Epoch 90/200\n",
            "65/65 [==============================] - 0s 1ms/step - loss: 2.4281 - mse: 2.4281\n",
            "Epoch 91/200\n",
            "65/65 [==============================] - 0s 2ms/step - loss: 2.2450 - mse: 2.2450\n",
            "Epoch 92/200\n",
            "65/65 [==============================] - 0s 1ms/step - loss: 2.0023 - mse: 2.0023\n",
            "Epoch 93/200\n",
            "65/65 [==============================] - 0s 1ms/step - loss: 1.7837 - mse: 1.7837\n",
            "Epoch 94/200\n",
            "65/65 [==============================] - 0s 1ms/step - loss: 1.5918 - mse: 1.5918\n",
            "Epoch 95/200\n",
            "65/65 [==============================] - 0s 1ms/step - loss: 1.4558 - mse: 1.4558\n",
            "Epoch 96/200\n",
            "65/65 [==============================] - 0s 1ms/step - loss: 1.2884 - mse: 1.2884\n",
            "Epoch 97/200\n",
            "65/65 [==============================] - 0s 1ms/step - loss: 1.1575 - mse: 1.1575\n",
            "Epoch 98/200\n",
            "65/65 [==============================] - 0s 1ms/step - loss: 1.0259 - mse: 1.0259\n",
            "Epoch 99/200\n",
            "65/65 [==============================] - 0s 1ms/step - loss: 0.9124 - mse: 0.9124\n",
            "Epoch 100/200\n",
            "65/65 [==============================] - 0s 1ms/step - loss: 0.7929 - mse: 0.7929\n",
            "Epoch 101/200\n",
            "65/65 [==============================] - 0s 1ms/step - loss: 0.7142 - mse: 0.7142\n",
            "Epoch 102/200\n",
            "65/65 [==============================] - 0s 1ms/step - loss: 0.6247 - mse: 0.6247\n",
            "Epoch 103/200\n",
            "65/65 [==============================] - 0s 1ms/step - loss: 0.5429 - mse: 0.5429\n",
            "Epoch 104/200\n",
            "65/65 [==============================] - 0s 1ms/step - loss: 0.4908 - mse: 0.4908\n",
            "Epoch 105/200\n",
            "65/65 [==============================] - 0s 1ms/step - loss: 0.4263 - mse: 0.4263\n",
            "Epoch 106/200\n",
            "65/65 [==============================] - 0s 1ms/step - loss: 0.3656 - mse: 0.3656\n",
            "Epoch 107/200\n",
            "65/65 [==============================] - 0s 1ms/step - loss: 0.3176 - mse: 0.3176\n",
            "Epoch 108/200\n",
            "65/65 [==============================] - 0s 1ms/step - loss: 0.2725 - mse: 0.2725\n",
            "Epoch 109/200\n",
            "65/65 [==============================] - 0s 1ms/step - loss: 0.2433 - mse: 0.2433\n",
            "Epoch 110/200\n",
            "65/65 [==============================] - 0s 1ms/step - loss: 0.2139 - mse: 0.2139\n",
            "Epoch 111/200\n",
            "65/65 [==============================] - 0s 1ms/step - loss: 0.1875 - mse: 0.1875\n",
            "Epoch 112/200\n",
            "65/65 [==============================] - 0s 1ms/step - loss: 0.1562 - mse: 0.1562\n",
            "Epoch 113/200\n",
            "65/65 [==============================] - 0s 1ms/step - loss: 0.1415 - mse: 0.1415\n",
            "Epoch 114/200\n",
            "65/65 [==============================] - 0s 1ms/step - loss: 0.1242 - mse: 0.1242\n",
            "Epoch 115/200\n",
            "65/65 [==============================] - 0s 1ms/step - loss: 0.1090 - mse: 0.1090\n",
            "Epoch 116/200\n",
            "65/65 [==============================] - 0s 1ms/step - loss: 0.0940 - mse: 0.0940\n",
            "Epoch 117/200\n",
            "65/65 [==============================] - 0s 1ms/step - loss: 0.0802 - mse: 0.0802\n",
            "Epoch 118/200\n",
            "65/65 [==============================] - 0s 1ms/step - loss: 0.0753 - mse: 0.0753\n",
            "Epoch 119/200\n",
            "65/65 [==============================] - 0s 1ms/step - loss: 0.0650 - mse: 0.0650\n",
            "Epoch 120/200\n",
            "65/65 [==============================] - 0s 1ms/step - loss: 0.0624 - mse: 0.0624\n",
            "Epoch 121/200\n",
            "65/65 [==============================] - 0s 1ms/step - loss: 0.0592 - mse: 0.0592\n",
            "Epoch 122/200\n",
            "65/65 [==============================] - 0s 1ms/step - loss: 0.0551 - mse: 0.0551\n",
            "Epoch 123/200\n",
            "65/65 [==============================] - 0s 1ms/step - loss: 0.0510 - mse: 0.0510\n",
            "Epoch 124/200\n",
            "65/65 [==============================] - 0s 1ms/step - loss: 0.0482 - mse: 0.0482\n",
            "Epoch 125/200\n",
            "65/65 [==============================] - 0s 1ms/step - loss: 0.0493 - mse: 0.0493\n",
            "Epoch 126/200\n",
            "65/65 [==============================] - 0s 1ms/step - loss: 0.0567 - mse: 0.0567\n",
            "Epoch 127/200\n",
            "65/65 [==============================] - 0s 1ms/step - loss: 0.0431 - mse: 0.0431\n",
            "Epoch 128/200\n",
            "65/65 [==============================] - 0s 1ms/step - loss: 0.0417 - mse: 0.0417\n",
            "Epoch 129/200\n",
            "65/65 [==============================] - 0s 1ms/step - loss: 0.0398 - mse: 0.0398\n",
            "Epoch 130/200\n",
            "65/65 [==============================] - 0s 1ms/step - loss: 0.0392 - mse: 0.0392\n",
            "Epoch 131/200\n",
            "65/65 [==============================] - 0s 1ms/step - loss: 0.0451 - mse: 0.0451\n",
            "Epoch 132/200\n",
            "65/65 [==============================] - 0s 1ms/step - loss: 0.0435 - mse: 0.0435\n",
            "Epoch 133/200\n",
            "65/65 [==============================] - 0s 1ms/step - loss: 0.0496 - mse: 0.0496\n"
          ]
        },
        {
          "output_type": "execute_result",
          "data": {
            "text/plain": [
              "<tensorflow.python.keras.callbacks.History at 0x7f579fb21150>"
            ]
          },
          "metadata": {
            "tags": []
          },
          "execution_count": 12
        }
      ],
      "metadata": {
        "colab": {
          "base_uri": "https://localhost:8080/"
        },
        "id": "ySnXjsxP4ABR",
        "outputId": "287e3ba4-aeaf-4a2b-e622-55dd5c078177"
      }
    },
    {
      "cell_type": "markdown",
      "source": [
        "> Summarize the model"
      ],
      "metadata": {
        "id": "UcYtwllBIZvy"
      }
    },
    {
      "cell_type": "code",
      "execution_count": null,
      "source": [
        "model_1.summary()\n",
        "plot_model(model=model_1, show_shapes=True)"
      ],
      "outputs": [
        {
          "output_type": "stream",
          "name": "stdout",
          "text": [
            "Model: \"sequential_3\"\n",
            "_________________________________________________________________\n",
            "Layer (type)                 Output Shape              Param #   \n",
            "=================================================================\n",
            "dense_3 (Dense)              (None, 100)               1000      \n",
            "=================================================================\n",
            "Total params: 1,000\n",
            "Trainable params: 1,000\n",
            "Non-trainable params: 0\n",
            "_________________________________________________________________\n"
          ]
        },
        {
          "output_type": "execute_result",
          "data": {
            "text/plain": [
              "<IPython.core.display.Image object>"
            ],
            "image/png": "[encoded data removed]"
          },
          "metadata": {
            "tags": []
          },
          "execution_count": 93
        }
      ],
      "metadata": {
        "colab": {
          "base_uri": "https://localhost:8080/",
          "height": 378
        },
        "id": "k0_ElhWhMDFM",
        "outputId": "c2686333-e965-4ec3-c5da-52105b5749f5"
      }
    },
    {
      "cell_type": "markdown",
      "source": [
        "> Evaluate the model"
      ],
      "metadata": {
        "id": "s27SebuJCD34"
      }
    },
    {
      "cell_type": "code",
      "execution_count": null,
      "source": [
        "model_1.evaluate(X_test, y_test)"
      ],
      "outputs": [
        {
          "output_type": "stream",
          "name": "stdout",
          "text": [
            "17/17 [==============================] - 0s 1ms/step - loss: 0.0307 - mse: 0.0307\n"
          ]
        },
        {
          "output_type": "execute_result",
          "data": {
            "text/plain": [
              "[0.030702633783221245, 0.030702633783221245]"
            ]
          },
          "metadata": {
            "tags": []
          },
          "execution_count": 26
        }
      ],
      "metadata": {
        "colab": {
          "base_uri": "https://localhost:8080/"
        },
        "id": "fPtSgIBA4ABS",
        "outputId": "eec966e7-9108-4cbd-ce7e-f916e3d2531b"
      }
    },
    {
      "cell_type": "code",
      "execution_count": null,
      "source": [
        "y_preds_1 = model_1.predict(X_test)"
      ],
      "outputs": [],
      "metadata": {
        "id": "KBhQw0dL4ABS"
      }
    },
    {
      "cell_type": "code",
      "execution_count": null,
      "source": [
        "# Compare Real time with Predict time\n",
        "\n",
        "df_1 = add_ypreds(X_test, y_test, y_preds_1)\n",
        "df_1"
      ],
      "outputs": [
        {
          "output_type": "execute_result",
          "data": {
            "text/plain": [
              "        A_X    A_Y     A_Z    B_X  ...      C_Y      C_Z   Time  Predict Time\n",
              "0    1670.0 -880.0  1205.0  375.0  ... -1966.89   843.66  2.304      2.198745\n",
              "1    1650.0  880.0  1220.0  425.0  ...  1597.76   782.78  2.040      2.197965\n",
              "2    1650.0  880.0  1220.0  425.0  ...  1340.85   887.73  1.992      2.163388\n",
              "3    1650.0  880.0  1220.0  950.0  ...  1688.40   834.53  1.824      2.003874\n",
              "4    1650.0  880.0  1220.0  600.0  ...  1586.17   894.33  2.064      2.072806\n",
              "..      ...    ...     ...    ...  ...      ...      ...    ...           ...\n",
              "511  1670.0 -880.0  1205.0  210.0  ... -1599.50  1042.53  2.136      2.122543\n",
              "512  1650.0  880.0  1220.0  775.0  ...  1484.15   933.64  1.800      2.022262\n",
              "513  1670.0 -880.0  1205.0  825.0  ... -1545.59  1000.83  2.112      2.071564\n",
              "514  1650.0  880.0  1220.0  662.5  ...  1995.60  1773.55  2.640      2.461007\n",
              "515  1650.0  880.0  1220.0  250.0  ...  1590.58   943.76  2.088      2.175701\n",
              "\n",
              "[516 rows x 11 columns]"
            ],
            "text/html": [
              "<div>\n",
              "<style scoped>\n",
              "    .dataframe tbody tr th:only-of-type {\n",
              "        vertical-align: middle;\n",
              "    }\n",
              "\n",
              "    .dataframe tbody tr th {\n",
              "        vertical-align: top;\n",
              "    }\n",
              "\n",
              "    .dataframe thead th {\n",
              "        text-align: right;\n",
              "    }\n",
              "</style>\n",
              "<table border=\"1\" class=\"dataframe\">\n",
              "  <thead>\n",
              "    <tr style=\"text-align: right;\">\n",
              "      <th></th>\n",
              "      <th>A_X</th>\n",
              "      <th>A_Y</th>\n",
              "      <th>A_Z</th>\n",
              "      <th>B_X</th>\n",
              "      <th>B_Y</th>\n",
              "      <th>B_Z</th>\n",
              "      <th>C_X</th>\n",
              "      <th>C_Y</th>\n",
              "      <th>C_Z</th>\n",
              "      <th>Time</th>\n",
              "      <th>Predict Time</th>\n",
              "    </tr>\n",
              "  </thead>\n",
              "  <tbody>\n",
              "    <tr>\n",
              "      <th>0</th>\n",
              "      <td>1670.0</td>\n",
              "      <td>-880.0</td>\n",
              "      <td>1205.0</td>\n",
              "      <td>375.0</td>\n",
              "      <td>-2600.0</td>\n",
              "      <td>467.0</td>\n",
              "      <td>783.87</td>\n",
              "      <td>-1966.89</td>\n",
              "      <td>843.66</td>\n",
              "      <td>2.304</td>\n",
              "      <td>2.198745</td>\n",
              "    </tr>\n",
              "    <tr>\n",
              "      <th>1</th>\n",
              "      <td>1650.0</td>\n",
              "      <td>880.0</td>\n",
              "      <td>1220.0</td>\n",
              "      <td>425.0</td>\n",
              "      <td>2072.5</td>\n",
              "      <td>482.0</td>\n",
              "      <td>782.93</td>\n",
              "      <td>1597.76</td>\n",
              "      <td>782.78</td>\n",
              "      <td>2.040</td>\n",
              "      <td>2.197965</td>\n",
              "    </tr>\n",
              "    <tr>\n",
              "      <th>2</th>\n",
              "      <td>1650.0</td>\n",
              "      <td>880.0</td>\n",
              "      <td>1220.0</td>\n",
              "      <td>425.0</td>\n",
              "      <td>2072.5</td>\n",
              "      <td>482.0</td>\n",
              "      <td>1089.18</td>\n",
              "      <td>1340.85</td>\n",
              "      <td>887.73</td>\n",
              "      <td>1.992</td>\n",
              "      <td>2.163388</td>\n",
              "    </tr>\n",
              "    <tr>\n",
              "      <th>3</th>\n",
              "      <td>1650.0</td>\n",
              "      <td>880.0</td>\n",
              "      <td>1220.0</td>\n",
              "      <td>950.0</td>\n",
              "      <td>2241.5</td>\n",
              "      <td>482.0</td>\n",
              "      <td>1393.72</td>\n",
              "      <td>1688.40</td>\n",
              "      <td>834.53</td>\n",
              "      <td>1.824</td>\n",
              "      <td>2.003874</td>\n",
              "    </tr>\n",
              "    <tr>\n",
              "      <th>4</th>\n",
              "      <td>1650.0</td>\n",
              "      <td>880.0</td>\n",
              "      <td>1220.0</td>\n",
              "      <td>600.0</td>\n",
              "      <td>2360.0</td>\n",
              "      <td>702.0</td>\n",
              "      <td>1122.02</td>\n",
              "      <td>1586.17</td>\n",
              "      <td>894.33</td>\n",
              "      <td>2.064</td>\n",
              "      <td>2.072806</td>\n",
              "    </tr>\n",
              "    <tr>\n",
              "      <th>...</th>\n",
              "      <td>...</td>\n",
              "      <td>...</td>\n",
              "      <td>...</td>\n",
              "      <td>...</td>\n",
              "      <td>...</td>\n",
              "      <td>...</td>\n",
              "      <td>...</td>\n",
              "      <td>...</td>\n",
              "      <td>...</td>\n",
              "      <td>...</td>\n",
              "      <td>...</td>\n",
              "    </tr>\n",
              "    <tr>\n",
              "      <th>511</th>\n",
              "      <td>1670.0</td>\n",
              "      <td>-880.0</td>\n",
              "      <td>1205.0</td>\n",
              "      <td>210.0</td>\n",
              "      <td>-2285.0</td>\n",
              "      <td>877.0</td>\n",
              "      <td>1071.35</td>\n",
              "      <td>-1599.50</td>\n",
              "      <td>1042.53</td>\n",
              "      <td>2.136</td>\n",
              "      <td>2.122543</td>\n",
              "    </tr>\n",
              "    <tr>\n",
              "      <th>512</th>\n",
              "      <td>1650.0</td>\n",
              "      <td>880.0</td>\n",
              "      <td>1220.0</td>\n",
              "      <td>775.0</td>\n",
              "      <td>2072.5</td>\n",
              "      <td>702.0</td>\n",
              "      <td>1236.00</td>\n",
              "      <td>1484.15</td>\n",
              "      <td>933.64</td>\n",
              "      <td>1.800</td>\n",
              "      <td>2.022262</td>\n",
              "    </tr>\n",
              "    <tr>\n",
              "      <th>513</th>\n",
              "      <td>1670.0</td>\n",
              "      <td>-880.0</td>\n",
              "      <td>1205.0</td>\n",
              "      <td>825.0</td>\n",
              "      <td>-2600.0</td>\n",
              "      <td>467.0</td>\n",
              "      <td>1328.92</td>\n",
              "      <td>-1545.59</td>\n",
              "      <td>1000.83</td>\n",
              "      <td>2.112</td>\n",
              "      <td>2.071564</td>\n",
              "    </tr>\n",
              "    <tr>\n",
              "      <th>514</th>\n",
              "      <td>1650.0</td>\n",
              "      <td>880.0</td>\n",
              "      <td>1220.0</td>\n",
              "      <td>662.5</td>\n",
              "      <td>2647.5</td>\n",
              "      <td>482.0</td>\n",
              "      <td>1098.43</td>\n",
              "      <td>1995.60</td>\n",
              "      <td>1773.55</td>\n",
              "      <td>2.640</td>\n",
              "      <td>2.461007</td>\n",
              "    </tr>\n",
              "    <tr>\n",
              "      <th>515</th>\n",
              "      <td>1650.0</td>\n",
              "      <td>880.0</td>\n",
              "      <td>1220.0</td>\n",
              "      <td>250.0</td>\n",
              "      <td>2241.5</td>\n",
              "      <td>702.0</td>\n",
              "      <td>984.60</td>\n",
              "      <td>1590.58</td>\n",
              "      <td>943.76</td>\n",
              "      <td>2.088</td>\n",
              "      <td>2.175701</td>\n",
              "    </tr>\n",
              "  </tbody>\n",
              "</table>\n",
              "<p>516 rows × 11 columns</p>\n",
              "</div>"
            ]
          },
          "metadata": {
            "tags": []
          },
          "execution_count": 44
        }
      ],
      "metadata": {
        "colab": {
          "base_uri": "https://localhost:8080/",
          "height": 414
        },
        "id": "kFe_MoswFrzI",
        "outputId": "db411c0d-f5c3-458e-b5b4-969e02161a9d"
      }
    },
    {
      "cell_type": "markdown",
      "source": [
        "### Build `model_2`"
      ],
      "metadata": {
        "id": "BG5js66V4ABT"
      }
    },
    {
      "cell_type": "markdown",
      "source": [
        "1. Layer: 2 \n",
        "2. Activation: linear\n",
        "3. Optimizers: Adam\n",
        "4. Loss: mse"
      ],
      "metadata": {
        "id": "QaZyHyRaLawI"
      }
    },
    {
      "cell_type": "code",
      "execution_count": null,
      "source": [
        "tf.random.set_seed(42)\n",
        "\n",
        "callback = tf.keras.callbacks.EarlyStopping(monitor='loss', patience=3)\n",
        "model_2 = tf.keras.Sequential([layers.Dense(100, activation=\"linear\"),\n",
        "                               layers.Dense(10, activation=\"linear\")])\n",
        "model_2.compile( loss=tf.keras.losses.mse,\n",
        "                  optimizer=tf.keras.optimizers.Adam(),\n",
        "                  metrics=[\"mse\"])\n",
        "model_2.fit(X_train, y_train, epochs=50, verbose=1, callbacks=[callback])"
      ],
      "outputs": [
        {
          "output_type": "stream",
          "name": "stdout",
          "text": [
            "Epoch 1/50\n",
            "65/65 [==============================] - 0s 1ms/step - loss: 77593.7656 - mse: 77593.7656\n",
            "Epoch 2/50\n",
            "65/65 [==============================] - 0s 1ms/step - loss: 2343.0679 - mse: 2343.0679\n",
            "Epoch 3/50\n",
            "65/65 [==============================] - 0s 1ms/step - loss: 796.9033 - mse: 796.9033\n",
            "Epoch 4/50\n",
            "65/65 [==============================] - 0s 1ms/step - loss: 434.5256 - mse: 434.5256\n",
            "Epoch 5/50\n",
            "65/65 [==============================] - 0s 1ms/step - loss: 295.7147 - mse: 295.7147\n",
            "Epoch 6/50\n",
            "65/65 [==============================] - 0s 1ms/step - loss: 208.9839 - mse: 208.9839\n",
            "Epoch 7/50\n",
            "65/65 [==============================] - 0s 1ms/step - loss: 153.7919 - mse: 153.7919\n",
            "Epoch 8/50\n",
            "65/65 [==============================] - 0s 1ms/step - loss: 112.5886 - mse: 112.5886\n",
            "Epoch 9/50\n",
            "65/65 [==============================] - 0s 1ms/step - loss: 86.4692 - mse: 86.4692\n",
            "Epoch 10/50\n",
            "65/65 [==============================] - 0s 1ms/step - loss: 67.2198 - mse: 67.2198\n",
            "Epoch 11/50\n",
            "65/65 [==============================] - 0s 1ms/step - loss: 53.6970 - mse: 53.6970\n",
            "Epoch 12/50\n",
            "65/65 [==============================] - 0s 1ms/step - loss: 43.2721 - mse: 43.2721\n",
            "Epoch 13/50\n",
            "65/65 [==============================] - 0s 1ms/step - loss: 35.6834 - mse: 35.6834\n",
            "Epoch 14/50\n",
            "65/65 [==============================] - 0s 1ms/step - loss: 29.0059 - mse: 29.0059\n",
            "Epoch 15/50\n",
            "65/65 [==============================] - 0s 1ms/step - loss: 24.0539 - mse: 24.0539\n",
            "Epoch 16/50\n",
            "65/65 [==============================] - 0s 1ms/step - loss: 20.2369 - mse: 20.2369\n",
            "Epoch 17/50\n",
            "65/65 [==============================] - 0s 1ms/step - loss: 16.7213 - mse: 16.7213\n",
            "Epoch 18/50\n",
            "65/65 [==============================] - 0s 1ms/step - loss: 14.0233 - mse: 14.0233\n",
            "Epoch 19/50\n",
            "65/65 [==============================] - 0s 1ms/step - loss: 11.5377 - mse: 11.5377\n",
            "Epoch 20/50\n",
            "65/65 [==============================] - 0s 1ms/step - loss: 9.8989 - mse: 9.8989\n",
            "Epoch 21/50\n",
            "65/65 [==============================] - 0s 1ms/step - loss: 8.3516 - mse: 8.3516\n",
            "Epoch 22/50\n",
            "65/65 [==============================] - 0s 1ms/step - loss: 6.6506 - mse: 6.6506\n",
            "Epoch 23/50\n",
            "65/65 [==============================] - 0s 1ms/step - loss: 5.4517 - mse: 5.4517\n",
            "Epoch 24/50\n",
            "65/65 [==============================] - 0s 2ms/step - loss: 4.6225 - mse: 4.6225\n",
            "Epoch 25/50\n",
            "65/65 [==============================] - 0s 1ms/step - loss: 3.6734 - mse: 3.6734\n",
            "Epoch 26/50\n",
            "65/65 [==============================] - 0s 1ms/step - loss: 3.0381 - mse: 3.0381\n",
            "Epoch 27/50\n",
            "65/65 [==============================] - 0s 1ms/step - loss: 2.3717 - mse: 2.3717\n",
            "Epoch 28/50\n",
            "65/65 [==============================] - 0s 1ms/step - loss: 1.9295 - mse: 1.9295\n",
            "Epoch 29/50\n",
            "65/65 [==============================] - 0s 1ms/step - loss: 1.5329 - mse: 1.5329\n",
            "Epoch 30/50\n",
            "65/65 [==============================] - 0s 1ms/step - loss: 1.2114 - mse: 1.2114\n",
            "Epoch 31/50\n",
            "65/65 [==============================] - 0s 1ms/step - loss: 1.0028 - mse: 1.0028\n",
            "Epoch 32/50\n",
            "65/65 [==============================] - 0s 2ms/step - loss: 0.7688 - mse: 0.7688\n",
            "Epoch 33/50\n",
            "65/65 [==============================] - 0s 1ms/step - loss: 0.6003 - mse: 0.6003\n",
            "Epoch 34/50\n",
            "65/65 [==============================] - 0s 1ms/step - loss: 0.5129 - mse: 0.5129\n",
            "Epoch 35/50\n",
            "65/65 [==============================] - 0s 1ms/step - loss: 0.3676 - mse: 0.3676\n",
            "Epoch 36/50\n",
            "65/65 [==============================] - 0s 1ms/step - loss: 0.2879 - mse: 0.2879\n",
            "Epoch 37/50\n",
            "65/65 [==============================] - 0s 1ms/step - loss: 0.2257 - mse: 0.2257\n",
            "Epoch 38/50\n",
            "65/65 [==============================] - 0s 1ms/step - loss: 0.1715 - mse: 0.1715\n",
            "Epoch 39/50\n",
            "65/65 [==============================] - 0s 1ms/step - loss: 0.1230 - mse: 0.1230\n",
            "Epoch 40/50\n",
            "65/65 [==============================] - 0s 1ms/step - loss: 0.0967 - mse: 0.0967\n",
            "Epoch 41/50\n",
            "65/65 [==============================] - 0s 1ms/step - loss: 0.0771 - mse: 0.0771\n",
            "Epoch 42/50\n",
            "65/65 [==============================] - 0s 1ms/step - loss: 0.0659 - mse: 0.0659\n",
            "Epoch 43/50\n",
            "65/65 [==============================] - 0s 1ms/step - loss: 0.0560 - mse: 0.0560\n",
            "Epoch 44/50\n",
            "65/65 [==============================] - 0s 1ms/step - loss: 0.0447 - mse: 0.0447\n",
            "Epoch 45/50\n",
            "65/65 [==============================] - 0s 1ms/step - loss: 0.0408 - mse: 0.0408\n",
            "Epoch 46/50\n",
            "65/65 [==============================] - 0s 1ms/step - loss: 0.0376 - mse: 0.0376\n",
            "Epoch 47/50\n",
            "65/65 [==============================] - 0s 1ms/step - loss: 0.0349 - mse: 0.0349\n",
            "Epoch 48/50\n",
            "65/65 [==============================] - 0s 1ms/step - loss: 0.0327 - mse: 0.0327\n",
            "Epoch 49/50\n",
            "65/65 [==============================] - 0s 1ms/step - loss: 0.0335 - mse: 0.0335\n",
            "Epoch 50/50\n",
            "65/65 [==============================] - 0s 1ms/step - loss: 0.0342 - mse: 0.0342\n"
          ]
        },
        {
          "output_type": "execute_result",
          "data": {
            "text/plain": [
              "<tensorflow.python.keras.callbacks.History at 0x7f579f08c710>"
            ]
          },
          "metadata": {
            "tags": []
          },
          "execution_count": 97
        }
      ],
      "metadata": {
        "colab": {
          "base_uri": "https://localhost:8080/"
        },
        "id": "PNoA3YP0H14g",
        "outputId": "9a1ddf1f-d071-4dd6-a311-3b1d1548f71a"
      }
    },
    {
      "cell_type": "markdown",
      "source": [
        "> Summarize the model"
      ],
      "metadata": {
        "id": "oZBPkc0hH3pH"
      }
    },
    {
      "cell_type": "code",
      "execution_count": null,
      "source": [
        "model_2.summary()\n",
        "plot_model(model=model_2, show_shapes=True)"
      ],
      "outputs": [
        {
          "output_type": "stream",
          "name": "stdout",
          "text": [
            "Model: \"sequential_18\"\n",
            "_________________________________________________________________\n",
            "Layer (type)                 Output Shape              Param #   \n",
            "=================================================================\n",
            "dense_42 (Dense)             (None, 100)               1000      \n",
            "_________________________________________________________________\n",
            "dense_43 (Dense)             (None, 10)                1010      \n",
            "=================================================================\n",
            "Total params: 2,010\n",
            "Trainable params: 2,010\n",
            "Non-trainable params: 0\n",
            "_________________________________________________________________\n"
          ]
        },
        {
          "output_type": "execute_result",
          "data": {
            "text/plain": [
              "<IPython.core.display.Image object>"
            ],
            "image/png": "[encoded data removed]"
          },
          "metadata": {
            "tags": []
          },
          "execution_count": 98
        }
      ],
      "metadata": {
        "colab": {
          "base_uri": "https://localhost:8080/",
          "height": 525
        },
        "id": "AdsyG1uqOGsP",
        "outputId": "73184533-9db1-4acd-acda-6dc11918acb3"
      }
    },
    {
      "cell_type": "markdown",
      "source": [
        "> Evaluate the model"
      ],
      "metadata": {
        "id": "ugkM7C2IOPr_"
      }
    },
    {
      "cell_type": "code",
      "execution_count": null,
      "source": [
        "model_2.evaluate(X_test, y_test)"
      ],
      "outputs": [
        {
          "output_type": "stream",
          "name": "stdout",
          "text": [
            "17/17 [==============================] - 0s 2ms/step - loss: 0.0300 - mse: 0.0300\n"
          ]
        },
        {
          "output_type": "execute_result",
          "data": {
            "text/plain": [
              "[0.029993753880262375, 0.029993753880262375]"
            ]
          },
          "metadata": {
            "tags": []
          },
          "execution_count": 100
        }
      ],
      "metadata": {
        "colab": {
          "base_uri": "https://localhost:8080/"
        },
        "id": "ZZ0TE8liOQEu",
        "outputId": "86349518-0d15-4cde-eab3-2fc676823e62"
      }
    },
    {
      "cell_type": "code",
      "execution_count": null,
      "source": [
        "y_preds_2 = model_2.predict(X_test)"
      ],
      "outputs": [],
      "metadata": {
        "id": "nw1YgPVVOdVY"
      }
    },
    {
      "cell_type": "code",
      "execution_count": null,
      "source": [
        "df_2 = add_ypreds(X_test, y_test, y_preds_2)\n",
        "df_2"
      ],
      "outputs": [
        {
          "output_type": "execute_result",
          "data": {
            "text/plain": [
              "        A_X    A_Y     A_Z    B_X  ...      C_Y      C_Z   Time  Predict Time\n",
              "0    1670.0 -880.0  1205.0  375.0  ... -1966.89   843.66  2.304      2.280656\n",
              "1    1650.0  880.0  1220.0  425.0  ...  1597.76   782.78  2.040      2.253739\n",
              "2    1650.0  880.0  1220.0  425.0  ...  1340.85   887.73  1.992      2.238231\n",
              "3    1650.0  880.0  1220.0  950.0  ...  1688.40   834.53  1.824      2.069990\n",
              "4    1650.0  880.0  1220.0  600.0  ...  1586.17   894.33  2.064      2.135455\n",
              "..      ...    ...     ...    ...  ...      ...      ...    ...           ...\n",
              "511  1670.0 -880.0  1205.0  210.0  ... -1599.50  1042.53  2.136      2.200471\n",
              "512  1650.0  880.0  1220.0  775.0  ...  1484.15   933.64  1.800      2.098419\n",
              "513  1670.0 -880.0  1205.0  825.0  ... -1545.59  1000.83  2.112      2.158625\n",
              "514  1650.0  880.0  1220.0  662.5  ...  1995.60  1773.55  2.640      2.532831\n",
              "515  1650.0  880.0  1220.0  250.0  ...  1590.58   943.76  2.088      2.238792\n",
              "\n",
              "[516 rows x 11 columns]"
            ],
            "text/html": [
              "<div>\n",
              "<style scoped>\n",
              "    .dataframe tbody tr th:only-of-type {\n",
              "        vertical-align: middle;\n",
              "    }\n",
              "\n",
              "    .dataframe tbody tr th {\n",
              "        vertical-align: top;\n",
              "    }\n",
              "\n",
              "    .dataframe thead th {\n",
              "        text-align: right;\n",
              "    }\n",
              "</style>\n",
              "<table border=\"1\" class=\"dataframe\">\n",
              "  <thead>\n",
              "    <tr style=\"text-align: right;\">\n",
              "      <th></th>\n",
              "      <th>A_X</th>\n",
              "      <th>A_Y</th>\n",
              "      <th>A_Z</th>\n",
              "      <th>B_X</th>\n",
              "      <th>B_Y</th>\n",
              "      <th>B_Z</th>\n",
              "      <th>C_X</th>\n",
              "      <th>C_Y</th>\n",
              "      <th>C_Z</th>\n",
              "      <th>Time</th>\n",
              "      <th>Predict Time</th>\n",
              "    </tr>\n",
              "  </thead>\n",
              "  <tbody>\n",
              "    <tr>\n",
              "      <th>0</th>\n",
              "      <td>1670.0</td>\n",
              "      <td>-880.0</td>\n",
              "      <td>1205.0</td>\n",
              "      <td>375.0</td>\n",
              "      <td>-2600.0</td>\n",
              "      <td>467.0</td>\n",
              "      <td>783.87</td>\n",
              "      <td>-1966.89</td>\n",
              "      <td>843.66</td>\n",
              "      <td>2.304</td>\n",
              "      <td>2.280656</td>\n",
              "    </tr>\n",
              "    <tr>\n",
              "      <th>1</th>\n",
              "      <td>1650.0</td>\n",
              "      <td>880.0</td>\n",
              "      <td>1220.0</td>\n",
              "      <td>425.0</td>\n",
              "      <td>2072.5</td>\n",
              "      <td>482.0</td>\n",
              "      <td>782.93</td>\n",
              "      <td>1597.76</td>\n",
              "      <td>782.78</td>\n",
              "      <td>2.040</td>\n",
              "      <td>2.253739</td>\n",
              "    </tr>\n",
              "    <tr>\n",
              "      <th>2</th>\n",
              "      <td>1650.0</td>\n",
              "      <td>880.0</td>\n",
              "      <td>1220.0</td>\n",
              "      <td>425.0</td>\n",
              "      <td>2072.5</td>\n",
              "      <td>482.0</td>\n",
              "      <td>1089.18</td>\n",
              "      <td>1340.85</td>\n",
              "      <td>887.73</td>\n",
              "      <td>1.992</td>\n",
              "      <td>2.238231</td>\n",
              "    </tr>\n",
              "    <tr>\n",
              "      <th>3</th>\n",
              "      <td>1650.0</td>\n",
              "      <td>880.0</td>\n",
              "      <td>1220.0</td>\n",
              "      <td>950.0</td>\n",
              "      <td>2241.5</td>\n",
              "      <td>482.0</td>\n",
              "      <td>1393.72</td>\n",
              "      <td>1688.40</td>\n",
              "      <td>834.53</td>\n",
              "      <td>1.824</td>\n",
              "      <td>2.069990</td>\n",
              "    </tr>\n",
              "    <tr>\n",
              "      <th>4</th>\n",
              "      <td>1650.0</td>\n",
              "      <td>880.0</td>\n",
              "      <td>1220.0</td>\n",
              "      <td>600.0</td>\n",
              "      <td>2360.0</td>\n",
              "      <td>702.0</td>\n",
              "      <td>1122.02</td>\n",
              "      <td>1586.17</td>\n",
              "      <td>894.33</td>\n",
              "      <td>2.064</td>\n",
              "      <td>2.135455</td>\n",
              "    </tr>\n",
              "    <tr>\n",
              "      <th>...</th>\n",
              "      <td>...</td>\n",
              "      <td>...</td>\n",
              "      <td>...</td>\n",
              "      <td>...</td>\n",
              "      <td>...</td>\n",
              "      <td>...</td>\n",
              "      <td>...</td>\n",
              "      <td>...</td>\n",
              "      <td>...</td>\n",
              "      <td>...</td>\n",
              "      <td>...</td>\n",
              "    </tr>\n",
              "    <tr>\n",
              "      <th>511</th>\n",
              "      <td>1670.0</td>\n",
              "      <td>-880.0</td>\n",
              "      <td>1205.0</td>\n",
              "      <td>210.0</td>\n",
              "      <td>-2285.0</td>\n",
              "      <td>877.0</td>\n",
              "      <td>1071.35</td>\n",
              "      <td>-1599.50</td>\n",
              "      <td>1042.53</td>\n",
              "      <td>2.136</td>\n",
              "      <td>2.200471</td>\n",
              "    </tr>\n",
              "    <tr>\n",
              "      <th>512</th>\n",
              "      <td>1650.0</td>\n",
              "      <td>880.0</td>\n",
              "      <td>1220.0</td>\n",
              "      <td>775.0</td>\n",
              "      <td>2072.5</td>\n",
              "      <td>702.0</td>\n",
              "      <td>1236.00</td>\n",
              "      <td>1484.15</td>\n",
              "      <td>933.64</td>\n",
              "      <td>1.800</td>\n",
              "      <td>2.098419</td>\n",
              "    </tr>\n",
              "    <tr>\n",
              "      <th>513</th>\n",
              "      <td>1670.0</td>\n",
              "      <td>-880.0</td>\n",
              "      <td>1205.0</td>\n",
              "      <td>825.0</td>\n",
              "      <td>-2600.0</td>\n",
              "      <td>467.0</td>\n",
              "      <td>1328.92</td>\n",
              "      <td>-1545.59</td>\n",
              "      <td>1000.83</td>\n",
              "      <td>2.112</td>\n",
              "      <td>2.158625</td>\n",
              "    </tr>\n",
              "    <tr>\n",
              "      <th>514</th>\n",
              "      <td>1650.0</td>\n",
              "      <td>880.0</td>\n",
              "      <td>1220.0</td>\n",
              "      <td>662.5</td>\n",
              "      <td>2647.5</td>\n",
              "      <td>482.0</td>\n",
              "      <td>1098.43</td>\n",
              "      <td>1995.60</td>\n",
              "      <td>1773.55</td>\n",
              "      <td>2.640</td>\n",
              "      <td>2.532831</td>\n",
              "    </tr>\n",
              "    <tr>\n",
              "      <th>515</th>\n",
              "      <td>1650.0</td>\n",
              "      <td>880.0</td>\n",
              "      <td>1220.0</td>\n",
              "      <td>250.0</td>\n",
              "      <td>2241.5</td>\n",
              "      <td>702.0</td>\n",
              "      <td>984.60</td>\n",
              "      <td>1590.58</td>\n",
              "      <td>943.76</td>\n",
              "      <td>2.088</td>\n",
              "      <td>2.238792</td>\n",
              "    </tr>\n",
              "  </tbody>\n",
              "</table>\n",
              "<p>516 rows × 11 columns</p>\n",
              "</div>"
            ]
          },
          "metadata": {
            "tags": []
          },
          "execution_count": 102
        }
      ],
      "metadata": {
        "colab": {
          "base_uri": "https://localhost:8080/",
          "height": 414
        },
        "id": "iDAWTC3yOy1B",
        "outputId": "17738b48-4035-4e70-efb2-401a3cc0730a"
      }
    },
    {
      "cell_type": "markdown",
      "source": [
        "### Build `model_3`"
      ],
      "metadata": {
        "id": "P9akTjR2H4Ei"
      }
    },
    {
      "cell_type": "markdown",
      "source": [
        "1. Layer: 3 \n",
        "2. Activation: linear\n",
        "3. Optimizers: Adam\n",
        "4. Loss: mse"
      ],
      "metadata": {
        "id": "jIZ5OVDcQzEU"
      }
    },
    {
      "cell_type": "code",
      "execution_count": null,
      "source": [
        "tf.random.set_seed(42)\n",
        "\n",
        "callback = tf.keras.callbacks.EarlyStopping(monitor='loss', patience=3)\n",
        "model_3 = tf.keras.Sequential([layers.Dense(100, activation=\"linear\"),\n",
        "                               layers.Dense(10, activation=\"linear\"), \n",
        "                               layers.Dense(1, activation=\"linear\")])\n",
        "model_3.compile(loss=tf.keras.losses.mse,\n",
        "                optimizer=tf.keras.optimizers.Adam(),\n",
        "                metrics=[\"mse\"])\n",
        "model_3.fit(X_train, y_train, epochs=50, verbose=1, callbacks=[callback])"
      ],
      "outputs": [
        {
          "output_type": "stream",
          "name": "stdout",
          "text": [
            "Epoch 1/50\n",
            "65/65 [==============================] - 0s 1ms/step - loss: 188440.9375 - mse: 188440.9375\n",
            "Epoch 2/50\n",
            "65/65 [==============================] - 0s 1ms/step - loss: 2513.6060 - mse: 2513.6060\n",
            "Epoch 3/50\n",
            "65/65 [==============================] - 0s 1ms/step - loss: 669.0187 - mse: 669.0187\n",
            "Epoch 4/50\n",
            "65/65 [==============================] - 0s 1ms/step - loss: 353.9878 - mse: 353.9878\n",
            "Epoch 5/50\n",
            "65/65 [==============================] - 0s 1ms/step - loss: 184.8208 - mse: 184.8208\n",
            "Epoch 6/50\n",
            "65/65 [==============================] - 0s 1ms/step - loss: 101.5763 - mse: 101.5763\n",
            "Epoch 7/50\n",
            "65/65 [==============================] - 0s 1ms/step - loss: 56.6169 - mse: 56.6169\n",
            "Epoch 8/50\n",
            "65/65 [==============================] - 0s 1ms/step - loss: 30.2302 - mse: 30.2302\n",
            "Epoch 9/50\n",
            "65/65 [==============================] - 0s 1ms/step - loss: 18.3317 - mse: 18.3317\n",
            "Epoch 10/50\n",
            "65/65 [==============================] - 0s 1ms/step - loss: 9.1041 - mse: 9.1041\n",
            "Epoch 11/50\n",
            "65/65 [==============================] - 0s 1ms/step - loss: 4.1528 - mse: 4.1528\n",
            "Epoch 12/50\n",
            "65/65 [==============================] - 0s 1ms/step - loss: 2.0594 - mse: 2.0594\n",
            "Epoch 13/50\n",
            "65/65 [==============================] - 0s 1ms/step - loss: 1.0048 - mse: 1.0048\n",
            "Epoch 14/50\n",
            "65/65 [==============================] - 0s 1ms/step - loss: 0.4418 - mse: 0.4418\n",
            "Epoch 15/50\n",
            "65/65 [==============================] - 0s 1ms/step - loss: 0.2010 - mse: 0.2010\n",
            "Epoch 16/50\n",
            "65/65 [==============================] - 0s 1ms/step - loss: 0.1026 - mse: 0.1026\n",
            "Epoch 17/50\n",
            "65/65 [==============================] - 0s 2ms/step - loss: 0.0548 - mse: 0.0548\n",
            "Epoch 18/50\n",
            "65/65 [==============================] - 0s 1ms/step - loss: 0.0377 - mse: 0.0377\n",
            "Epoch 19/50\n",
            "65/65 [==============================] - 0s 2ms/step - loss: 0.0325 - mse: 0.0325\n",
            "Epoch 20/50\n",
            "65/65 [==============================] - 0s 2ms/step - loss: 0.0276 - mse: 0.0276\n",
            "Epoch 21/50\n",
            "65/65 [==============================] - 0s 1ms/step - loss: 0.0272 - mse: 0.0272\n",
            "Epoch 22/50\n",
            "65/65 [==============================] - 0s 1ms/step - loss: 0.0275 - mse: 0.0275\n",
            "Epoch 23/50\n",
            "65/65 [==============================] - 0s 1ms/step - loss: 0.0256 - mse: 0.0256\n",
            "Epoch 24/50\n",
            "65/65 [==============================] - 0s 1ms/step - loss: 0.0288 - mse: 0.0288\n",
            "Epoch 25/50\n",
            "65/65 [==============================] - 0s 1ms/step - loss: 0.0314 - mse: 0.0314\n",
            "Epoch 26/50\n",
            "65/65 [==============================] - 0s 2ms/step - loss: 0.0275 - mse: 0.0275\n"
          ]
        },
        {
          "output_type": "execute_result",
          "data": {
            "text/plain": [
              "<tensorflow.python.keras.callbacks.History at 0x7f759adc9150>"
            ]
          },
          "metadata": {
            "tags": []
          },
          "execution_count": 60
        }
      ],
      "metadata": {
        "colab": {
          "base_uri": "https://localhost:8080/"
        },
        "id": "0f3aPTxJH4yQ",
        "outputId": "4d09f184-54b8-4fea-ceb8-62d94a3c1ae0"
      }
    },
    {
      "cell_type": "markdown",
      "source": [
        "> Summarize the model"
      ],
      "metadata": {
        "id": "2OJWU8HKQCxk"
      }
    },
    {
      "cell_type": "code",
      "execution_count": null,
      "source": [
        "model_3.summary()\n",
        "plot_model(model=model_3, show_shapes=True)"
      ],
      "outputs": [
        {
          "output_type": "stream",
          "name": "stdout",
          "text": [
            "Model: \"sequential_31\"\n",
            "_________________________________________________________________\n",
            "Layer (type)                 Output Shape              Param #   \n",
            "=================================================================\n",
            "dense_96 (Dense)             (None, 100)               1000      \n",
            "_________________________________________________________________\n",
            "dense_97 (Dense)             (None, 10)                1010      \n",
            "_________________________________________________________________\n",
            "dense_98 (Dense)             (None, 1)                 11        \n",
            "=================================================================\n",
            "Total params: 2,021\n",
            "Trainable params: 2,021\n",
            "Non-trainable params: 0\n",
            "_________________________________________________________________\n"
          ]
        },
        {
          "output_type": "execute_result",
          "data": {
            "text/plain": [
              "<IPython.core.display.Image object>"
            ],
            "image/png": "[encoded data removed]"
          },
          "metadata": {
            "tags": []
          },
          "execution_count": 61
        }
      ],
      "metadata": {
        "colab": {
          "base_uri": "https://localhost:8080/",
          "height": 671
        },
        "id": "lUrnkqycQFzt",
        "outputId": "b11116ff-215c-4a94-ef0c-7bdb675a3425"
      }
    },
    {
      "cell_type": "markdown",
      "source": [
        "> Evaluate the model"
      ],
      "metadata": {
        "id": "sDchCXHMKyjX"
      }
    },
    {
      "cell_type": "code",
      "execution_count": null,
      "source": [
        "model_3.evaluate(X_test, y_test)"
      ],
      "outputs": [
        {
          "output_type": "stream",
          "name": "stdout",
          "text": [
            "17/17 [==============================] - 0s 1ms/step - loss: 0.0202 - mse: 0.0202\n"
          ]
        },
        {
          "output_type": "execute_result",
          "data": {
            "text/plain": [
              "[0.020168710500001907, 0.020168710500001907]"
            ]
          },
          "metadata": {
            "tags": []
          },
          "execution_count": 63
        }
      ],
      "metadata": {
        "colab": {
          "base_uri": "https://localhost:8080/"
        },
        "id": "fQDiasPYP1XW",
        "outputId": "7148bf82-0040-47e1-d11c-85b03021e1c3"
      }
    },
    {
      "cell_type": "code",
      "execution_count": null,
      "source": [
        "y_preds_3 = model_3.predict(X_test)"
      ],
      "outputs": [],
      "metadata": {
        "id": "N0WcdAFBQMGn"
      }
    },
    {
      "cell_type": "code",
      "execution_count": null,
      "source": [
        "df_3 = add_ypreds(X_test, y_test, y_preds_3)\n",
        "df_3"
      ],
      "outputs": [
        {
          "output_type": "execute_result",
          "data": {
            "text/plain": [
              "        A_X    A_Y     A_Z    B_X  ...      C_Y      C_Z   Time  Predict Time\n",
              "0    1670.0 -880.0  1205.0  375.0  ... -1966.89   843.66  2.304      2.257434\n",
              "1    1650.0  880.0  1220.0  425.0  ...  1597.76   782.78  2.040      2.169397\n",
              "2    1650.0  880.0  1220.0  425.0  ...  1340.85   887.73  1.992      2.131560\n",
              "3    1650.0  880.0  1220.0  950.0  ...  1688.40   834.53  1.824      1.933981\n",
              "4    1650.0  880.0  1220.0  600.0  ...  1586.17   894.33  2.064      2.028052\n",
              "..      ...    ...     ...    ...  ...      ...      ...    ...           ...\n",
              "511  1670.0 -880.0  1205.0  210.0  ... -1599.50  1042.53  2.136      2.175618\n",
              "512  1650.0  880.0  1220.0  775.0  ...  1484.15   933.64  1.800      1.972275\n",
              "513  1670.0 -880.0  1205.0  825.0  ... -1545.59  1000.83  2.112      2.091073\n",
              "514  1650.0  880.0  1220.0  662.5  ...  1995.60  1773.55  2.640      2.415905\n",
              "515  1650.0  880.0  1220.0  250.0  ...  1590.58   943.76  2.088      2.150651\n",
              "\n",
              "[516 rows x 11 columns]"
            ],
            "text/html": [
              "<div>\n",
              "<style scoped>\n",
              "    .dataframe tbody tr th:only-of-type {\n",
              "        vertical-align: middle;\n",
              "    }\n",
              "\n",
              "    .dataframe tbody tr th {\n",
              "        vertical-align: top;\n",
              "    }\n",
              "\n",
              "    .dataframe thead th {\n",
              "        text-align: right;\n",
              "    }\n",
              "</style>\n",
              "<table border=\"1\" class=\"dataframe\">\n",
              "  <thead>\n",
              "    <tr style=\"text-align: right;\">\n",
              "      <th></th>\n",
              "      <th>A_X</th>\n",
              "      <th>A_Y</th>\n",
              "      <th>A_Z</th>\n",
              "      <th>B_X</th>\n",
              "      <th>B_Y</th>\n",
              "      <th>B_Z</th>\n",
              "      <th>C_X</th>\n",
              "      <th>C_Y</th>\n",
              "      <th>C_Z</th>\n",
              "      <th>Time</th>\n",
              "      <th>Predict Time</th>\n",
              "    </tr>\n",
              "  </thead>\n",
              "  <tbody>\n",
              "    <tr>\n",
              "      <th>0</th>\n",
              "      <td>1670.0</td>\n",
              "      <td>-880.0</td>\n",
              "      <td>1205.0</td>\n",
              "      <td>375.0</td>\n",
              "      <td>-2600.0</td>\n",
              "      <td>467.0</td>\n",
              "      <td>783.87</td>\n",
              "      <td>-1966.89</td>\n",
              "      <td>843.66</td>\n",
              "      <td>2.304</td>\n",
              "      <td>2.257434</td>\n",
              "    </tr>\n",
              "    <tr>\n",
              "      <th>1</th>\n",
              "      <td>1650.0</td>\n",
              "      <td>880.0</td>\n",
              "      <td>1220.0</td>\n",
              "      <td>425.0</td>\n",
              "      <td>2072.5</td>\n",
              "      <td>482.0</td>\n",
              "      <td>782.93</td>\n",
              "      <td>1597.76</td>\n",
              "      <td>782.78</td>\n",
              "      <td>2.040</td>\n",
              "      <td>2.169397</td>\n",
              "    </tr>\n",
              "    <tr>\n",
              "      <th>2</th>\n",
              "      <td>1650.0</td>\n",
              "      <td>880.0</td>\n",
              "      <td>1220.0</td>\n",
              "      <td>425.0</td>\n",
              "      <td>2072.5</td>\n",
              "      <td>482.0</td>\n",
              "      <td>1089.18</td>\n",
              "      <td>1340.85</td>\n",
              "      <td>887.73</td>\n",
              "      <td>1.992</td>\n",
              "      <td>2.131560</td>\n",
              "    </tr>\n",
              "    <tr>\n",
              "      <th>3</th>\n",
              "      <td>1650.0</td>\n",
              "      <td>880.0</td>\n",
              "      <td>1220.0</td>\n",
              "      <td>950.0</td>\n",
              "      <td>2241.5</td>\n",
              "      <td>482.0</td>\n",
              "      <td>1393.72</td>\n",
              "      <td>1688.40</td>\n",
              "      <td>834.53</td>\n",
              "      <td>1.824</td>\n",
              "      <td>1.933981</td>\n",
              "    </tr>\n",
              "    <tr>\n",
              "      <th>4</th>\n",
              "      <td>1650.0</td>\n",
              "      <td>880.0</td>\n",
              "      <td>1220.0</td>\n",
              "      <td>600.0</td>\n",
              "      <td>2360.0</td>\n",
              "      <td>702.0</td>\n",
              "      <td>1122.02</td>\n",
              "      <td>1586.17</td>\n",
              "      <td>894.33</td>\n",
              "      <td>2.064</td>\n",
              "      <td>2.028052</td>\n",
              "    </tr>\n",
              "    <tr>\n",
              "      <th>...</th>\n",
              "      <td>...</td>\n",
              "      <td>...</td>\n",
              "      <td>...</td>\n",
              "      <td>...</td>\n",
              "      <td>...</td>\n",
              "      <td>...</td>\n",
              "      <td>...</td>\n",
              "      <td>...</td>\n",
              "      <td>...</td>\n",
              "      <td>...</td>\n",
              "      <td>...</td>\n",
              "    </tr>\n",
              "    <tr>\n",
              "      <th>511</th>\n",
              "      <td>1670.0</td>\n",
              "      <td>-880.0</td>\n",
              "      <td>1205.0</td>\n",
              "      <td>210.0</td>\n",
              "      <td>-2285.0</td>\n",
              "      <td>877.0</td>\n",
              "      <td>1071.35</td>\n",
              "      <td>-1599.50</td>\n",
              "      <td>1042.53</td>\n",
              "      <td>2.136</td>\n",
              "      <td>2.175618</td>\n",
              "    </tr>\n",
              "    <tr>\n",
              "      <th>512</th>\n",
              "      <td>1650.0</td>\n",
              "      <td>880.0</td>\n",
              "      <td>1220.0</td>\n",
              "      <td>775.0</td>\n",
              "      <td>2072.5</td>\n",
              "      <td>702.0</td>\n",
              "      <td>1236.00</td>\n",
              "      <td>1484.15</td>\n",
              "      <td>933.64</td>\n",
              "      <td>1.800</td>\n",
              "      <td>1.972275</td>\n",
              "    </tr>\n",
              "    <tr>\n",
              "      <th>513</th>\n",
              "      <td>1670.0</td>\n",
              "      <td>-880.0</td>\n",
              "      <td>1205.0</td>\n",
              "      <td>825.0</td>\n",
              "      <td>-2600.0</td>\n",
              "      <td>467.0</td>\n",
              "      <td>1328.92</td>\n",
              "      <td>-1545.59</td>\n",
              "      <td>1000.83</td>\n",
              "      <td>2.112</td>\n",
              "      <td>2.091073</td>\n",
              "    </tr>\n",
              "    <tr>\n",
              "      <th>514</th>\n",
              "      <td>1650.0</td>\n",
              "      <td>880.0</td>\n",
              "      <td>1220.0</td>\n",
              "      <td>662.5</td>\n",
              "      <td>2647.5</td>\n",
              "      <td>482.0</td>\n",
              "      <td>1098.43</td>\n",
              "      <td>1995.60</td>\n",
              "      <td>1773.55</td>\n",
              "      <td>2.640</td>\n",
              "      <td>2.415905</td>\n",
              "    </tr>\n",
              "    <tr>\n",
              "      <th>515</th>\n",
              "      <td>1650.0</td>\n",
              "      <td>880.0</td>\n",
              "      <td>1220.0</td>\n",
              "      <td>250.0</td>\n",
              "      <td>2241.5</td>\n",
              "      <td>702.0</td>\n",
              "      <td>984.60</td>\n",
              "      <td>1590.58</td>\n",
              "      <td>943.76</td>\n",
              "      <td>2.088</td>\n",
              "      <td>2.150651</td>\n",
              "    </tr>\n",
              "  </tbody>\n",
              "</table>\n",
              "<p>516 rows × 11 columns</p>\n",
              "</div>"
            ]
          },
          "metadata": {
            "tags": []
          },
          "execution_count": 65
        }
      ],
      "metadata": {
        "colab": {
          "base_uri": "https://localhost:8080/",
          "height": 414
        },
        "id": "oWCSLloRQdSc",
        "outputId": "d8e76e72-217f-4369-d410-a5b19b9919b7"
      }
    },
    {
      "cell_type": "markdown",
      "source": [
        "> Save the model"
      ],
      "metadata": {
        "id": "1qVyV7Rd-rZA"
      }
    },
    {
      "cell_type": "code",
      "execution_count": null,
      "source": [
        "keras.models.save_model(model_3, \"/content/drive/MyDrive/ABB/Path_Optimizer_Savedmodel.h5\")"
      ],
      "outputs": [],
      "metadata": {
        "id": "T-0oo2Doled5"
      }
    },
    {
      "cell_type": "markdown",
      "source": [
        "> Load the model"
      ],
      "metadata": {
        "id": "qUTB3V1f0Jqw"
      }
    },
    {
      "cell_type": "code",
      "execution_count": null,
      "source": [
        "Path_Optimizer_Model = keras.models.load_model('/content/drive/MyDrive/ABB/Path_Optimizer_Savedmodel.h5')"
      ],
      "outputs": [],
      "metadata": {
        "id": "qoh7h61_zRpP"
      }
    },
    {
      "cell_type": "code",
      "execution_count": null,
      "source": [
        "Path_Optimizer_Model.summary()"
      ],
      "outputs": [
        {
          "output_type": "stream",
          "name": "stdout",
          "text": [
            "Model: \"sequential_31\"\n",
            "_________________________________________________________________\n",
            "Layer (type)                 Output Shape              Param #   \n",
            "=================================================================\n",
            "dense_96 (Dense)             (None, 100)               1000      \n",
            "_________________________________________________________________\n",
            "dense_97 (Dense)             (None, 10)                1010      \n",
            "_________________________________________________________________\n",
            "dense_98 (Dense)             (None, 1)                 11        \n",
            "=================================================================\n",
            "Total params: 2,021\n",
            "Trainable params: 2,021\n",
            "Non-trainable params: 0\n",
            "_________________________________________________________________\n"
          ]
        }
      ],
      "metadata": {
        "colab": {
          "base_uri": "https://localhost:8080/"
        },
        "id": "TR8yc7to0I0S",
        "outputId": "2238d667-1a4c-4bab-9ffe-185349b54deb"
      }
    },
    {
      "cell_type": "code",
      "execution_count": null,
      "source": [
        "Path_Optimizer_Model.evaluate(X_test, y_test)"
      ],
      "outputs": [
        {
          "output_type": "stream",
          "name": "stdout",
          "text": [
            "17/17 [==============================] - 0s 1ms/step - loss: 0.0202 - mse: 0.0202\n"
          ]
        },
        {
          "output_type": "execute_result",
          "data": {
            "text/plain": [
              "[0.020168710500001907, 0.020168710500001907]"
            ]
          },
          "metadata": {
            "tags": []
          },
          "execution_count": 99
        }
      ],
      "metadata": {
        "colab": {
          "base_uri": "https://localhost:8080/"
        },
        "id": "Ljq00hnX0RUp",
        "outputId": "be43a159-7b70-48ef-d139-336c3db274b8"
      }
    },
    {
      "cell_type": "markdown",
      "source": [
        "### Build `model_4`"
      ],
      "metadata": {
        "id": "wBO9SGCLQmSc"
      }
    },
    {
      "cell_type": "markdown",
      "source": [
        "1. Layer:\n",
        "2. Activation: \n",
        "3. Optimizers: Adam\n",
        "4. Loss: mse"
      ],
      "metadata": {
        "id": "k_v8I_yunTNJ"
      }
    },
    {
      "cell_type": "code",
      "execution_count": null,
      "source": [
        "tf.random.set_seed(42)\n",
        "\n",
        "callback = keras.callbacks.EarlyStopping(monitor='loss', patience=3)\n",
        "model_4 = keras.Sequential([layers.Dense(16, activation='linear'),\n",
        "                            layers.Dense(8, activation='linear'),\n",
        "                            layers.Dense(1, activation='linear')])\n",
        "model_4.compile( optimizer=tf.keras.optimizers.Adam(),\n",
        "                 loss=keras.losses.mse,\n",
        "                 metrics=['mse'])\n",
        "model_4.fit(X_train, y_train, epochs=100, verbose=1, callbacks=[callback])"
      ],
      "outputs": [
        {
          "output_type": "stream",
          "name": "stdout",
          "text": [
            "Epoch 1/100\n",
            "65/65 [==============================] - 0s 1ms/step - loss: 162795.7969 - mse: 162795.7969\n",
            "Epoch 2/100\n",
            "65/65 [==============================] - 0s 1ms/step - loss: 14303.0010 - mse: 14303.0010\n",
            "Epoch 3/100\n",
            "65/65 [==============================] - 0s 1ms/step - loss: 8467.2305 - mse: 8467.2305\n",
            "Epoch 4/100\n",
            "65/65 [==============================] - 0s 1ms/step - loss: 4821.1353 - mse: 4821.1353\n",
            "Epoch 5/100\n",
            "65/65 [==============================] - 0s 1ms/step - loss: 2673.9744 - mse: 2673.9744\n",
            "Epoch 6/100\n",
            "65/65 [==============================] - 0s 1ms/step - loss: 1584.7722 - mse: 1584.7722\n",
            "Epoch 7/100\n",
            "65/65 [==============================] - 0s 1ms/step - loss: 1072.5637 - mse: 1072.5637\n",
            "Epoch 8/100\n",
            "65/65 [==============================] - 0s 1ms/step - loss: 791.0033 - mse: 791.0033\n",
            "Epoch 9/100\n",
            "65/65 [==============================] - 0s 1ms/step - loss: 626.8076 - mse: 626.8076\n",
            "Epoch 10/100\n",
            "65/65 [==============================] - 0s 1ms/step - loss: 477.6741 - mse: 477.6741\n",
            "Epoch 11/100\n",
            "65/65 [==============================] - 0s 1ms/step - loss: 362.2792 - mse: 362.2792\n",
            "Epoch 12/100\n",
            "65/65 [==============================] - 0s 1ms/step - loss: 278.0601 - mse: 278.0601\n",
            "Epoch 13/100\n",
            "65/65 [==============================] - 0s 1ms/step - loss: 213.7108 - mse: 213.7108\n",
            "Epoch 14/100\n",
            "65/65 [==============================] - 0s 1ms/step - loss: 156.9879 - mse: 156.9879\n",
            "Epoch 15/100\n",
            "65/65 [==============================] - 0s 1ms/step - loss: 112.7122 - mse: 112.7122\n",
            "Epoch 16/100\n",
            "65/65 [==============================] - 0s 1ms/step - loss: 79.2101 - mse: 79.2101\n",
            "Epoch 17/100\n",
            "65/65 [==============================] - 0s 1ms/step - loss: 56.9121 - mse: 56.9121\n",
            "Epoch 18/100\n",
            "65/65 [==============================] - 0s 1ms/step - loss: 39.3340 - mse: 39.3340\n",
            "Epoch 19/100\n",
            "65/65 [==============================] - 0s 1ms/step - loss: 27.7207 - mse: 27.7207\n",
            "Epoch 20/100\n",
            "65/65 [==============================] - 0s 1ms/step - loss: 18.7557 - mse: 18.7557\n",
            "Epoch 21/100\n",
            "65/65 [==============================] - 0s 1ms/step - loss: 10.9354 - mse: 10.9354\n",
            "Epoch 22/100\n",
            "65/65 [==============================] - 0s 1ms/step - loss: 7.2802 - mse: 7.2802\n",
            "Epoch 23/100\n",
            "65/65 [==============================] - 0s 1ms/step - loss: 4.3103 - mse: 4.3103\n",
            "Epoch 24/100\n",
            "65/65 [==============================] - 0s 1ms/step - loss: 2.7462 - mse: 2.7462\n",
            "Epoch 25/100\n",
            "65/65 [==============================] - 0s 1ms/step - loss: 1.6913 - mse: 1.6913\n",
            "Epoch 26/100\n",
            "65/65 [==============================] - 0s 1ms/step - loss: 1.0021 - mse: 1.0021\n",
            "Epoch 27/100\n",
            "65/65 [==============================] - 0s 1ms/step - loss: 0.5393 - mse: 0.5393\n",
            "Epoch 28/100\n",
            "65/65 [==============================] - 0s 1ms/step - loss: 0.3414 - mse: 0.3414\n",
            "Epoch 29/100\n",
            "65/65 [==============================] - 0s 1ms/step - loss: 0.1732 - mse: 0.1732\n",
            "Epoch 30/100\n",
            "65/65 [==============================] - 0s 1ms/step - loss: 0.1101 - mse: 0.1101\n",
            "Epoch 31/100\n",
            "65/65 [==============================] - 0s 1ms/step - loss: 0.0668 - mse: 0.0668\n",
            "Epoch 32/100\n",
            "65/65 [==============================] - 0s 1ms/step - loss: 0.0443 - mse: 0.0443\n",
            "Epoch 33/100\n",
            "65/65 [==============================] - 0s 1ms/step - loss: 0.0350 - mse: 0.0350\n",
            "Epoch 34/100\n",
            "65/65 [==============================] - 0s 1ms/step - loss: 0.0336 - mse: 0.0336\n",
            "Epoch 35/100\n",
            "65/65 [==============================] - 0s 1ms/step - loss: 0.0268 - mse: 0.0268\n",
            "Epoch 36/100\n",
            "65/65 [==============================] - 0s 2ms/step - loss: 0.0248 - mse: 0.0248\n",
            "Epoch 37/100\n",
            "65/65 [==============================] - 0s 1ms/step - loss: 0.0290 - mse: 0.0290\n",
            "Epoch 38/100\n",
            "65/65 [==============================] - 0s 1ms/step - loss: 0.0259 - mse: 0.0259\n",
            "Epoch 39/100\n",
            "65/65 [==============================] - 0s 1ms/step - loss: 0.0239 - mse: 0.0239\n",
            "Epoch 40/100\n",
            "65/65 [==============================] - 0s 1ms/step - loss: 0.0264 - mse: 0.0264\n",
            "Epoch 41/100\n",
            "65/65 [==============================] - 0s 1ms/step - loss: 0.0274 - mse: 0.0274\n",
            "Epoch 42/100\n",
            "65/65 [==============================] - 0s 1ms/step - loss: 0.0299 - mse: 0.0299\n"
          ]
        },
        {
          "output_type": "execute_result",
          "data": {
            "text/plain": [
              "<tensorflow.python.keras.callbacks.History at 0x7f759bd17890>"
            ]
          },
          "metadata": {
            "tags": []
          },
          "execution_count": 84
        }
      ],
      "metadata": {
        "id": "HmgUcft4Qu98",
        "colab": {
          "base_uri": "https://localhost:8080/"
        },
        "outputId": "179ada07-f0ab-42cd-deac-f01bfcbf2bd9"
      }
    },
    {
      "cell_type": "markdown",
      "source": [
        "> Summarize the model"
      ],
      "metadata": {
        "id": "IhMtx9oVnMYz"
      }
    },
    {
      "cell_type": "code",
      "execution_count": null,
      "source": [
        "model_4.summary()\n",
        "plot_model(model_4, show_shapes=True, show_dtype=True)"
      ],
      "outputs": [
        {
          "output_type": "stream",
          "name": "stdout",
          "text": [
            "Model: \"sequential_10\"\n",
            "_________________________________________________________________\n",
            "Layer (type)                 Output Shape              Param #   \n",
            "=================================================================\n",
            "dense_30 (Dense)             (None, 100)               1000      \n",
            "_________________________________________________________________\n",
            "dense_31 (Dense)             (None, 20)                2020      \n",
            "_________________________________________________________________\n",
            "dense_32 (Dense)             (None, 1)                 21        \n",
            "=================================================================\n",
            "Total params: 3,041\n",
            "Trainable params: 3,041\n",
            "Non-trainable params: 0\n",
            "_________________________________________________________________\n"
          ]
        },
        {
          "output_type": "execute_result",
          "data": {
            "text/plain": [
              "<IPython.core.display.Image object>"
            ],
            "image/png": "[encoded data removed]"
          },
          "metadata": {
            "tags": []
          },
          "execution_count": 24
        }
      ],
      "metadata": {
        "colab": {
          "base_uri": "https://localhost:8080/",
          "height": 671
        },
        "id": "hdhT_OounMKj",
        "outputId": "f64db074-dfe3-4719-9480-1d58eec9ff8c"
      }
    },
    {
      "cell_type": "markdown",
      "source": [
        "> Evaluate the model"
      ],
      "metadata": {
        "id": "5kMBcinWnG7U"
      }
    },
    {
      "cell_type": "code",
      "execution_count": null,
      "source": [
        "model_4.evaluate(X_test, y_test)"
      ],
      "outputs": [
        {
          "output_type": "stream",
          "name": "stdout",
          "text": [
            "17/17 [==============================] - 0s 2ms/step - loss: 0.0201 - mse: 0.0201\n"
          ]
        },
        {
          "output_type": "execute_result",
          "data": {
            "text/plain": [
              "[0.020102333277463913, 0.020102333277463913]"
            ]
          },
          "metadata": {
            "tags": []
          },
          "execution_count": 25
        }
      ],
      "metadata": {
        "colab": {
          "base_uri": "https://localhost:8080/"
        },
        "id": "b4HngzITnKuC",
        "outputId": "82e5fc94-7e55-4fa3-c2e9-346ffe15a6b0"
      }
    },
    {
      "cell_type": "code",
      "execution_count": null,
      "source": [
        "y_preds_4 = model_4.predict(X_test)"
      ],
      "outputs": [],
      "metadata": {
        "id": "bDKF1mvPy-Fp"
      }
    },
    {
      "cell_type": "code",
      "execution_count": null,
      "source": [
        "df_4 = add_ypreds(X_test, y_test, y_preds_4)\n",
        "df_4"
      ],
      "outputs": [
        {
          "output_type": "execute_result",
          "data": {
            "text/plain": [
              "        A_X    A_Y     A_Z    B_X  ...      C_Y      C_Z   Time  Predict Time\n",
              "0    1670.0 -880.0  1205.0  375.0  ... -1966.89   843.66  2.304      2.284939\n",
              "1    1650.0  880.0  1220.0  425.0  ...  1597.76   782.78  2.040      2.180547\n",
              "2    1650.0  880.0  1220.0  425.0  ...  1340.85   887.73  1.992      2.148544\n",
              "3    1650.0  880.0  1220.0  950.0  ...  1688.40   834.53  1.824      1.935602\n",
              "4    1650.0  880.0  1220.0  600.0  ...  1586.17   894.33  2.064      2.040468\n",
              "..      ...    ...     ...    ...  ...      ...      ...    ...           ...\n",
              "511  1670.0 -880.0  1205.0  210.0  ... -1599.50  1042.53  2.136      2.202258\n",
              "512  1650.0  880.0  1220.0  775.0  ...  1484.15   933.64  1.800      1.980791\n",
              "513  1670.0 -880.0  1205.0  825.0  ... -1545.59  1000.83  2.112      2.102412\n",
              "514  1650.0  880.0  1220.0  662.5  ...  1995.60  1773.55  2.640      2.435587\n",
              "515  1650.0  880.0  1220.0  250.0  ...  1590.58   943.76  2.088      2.167737\n",
              "\n",
              "[516 rows x 11 columns]"
            ],
            "text/html": [
              "<div>\n",
              "<style scoped>\n",
              "    .dataframe tbody tr th:only-of-type {\n",
              "        vertical-align: middle;\n",
              "    }\n",
              "\n",
              "    .dataframe tbody tr th {\n",
              "        vertical-align: top;\n",
              "    }\n",
              "\n",
              "    .dataframe thead th {\n",
              "        text-align: right;\n",
              "    }\n",
              "</style>\n",
              "<table border=\"1\" class=\"dataframe\">\n",
              "  <thead>\n",
              "    <tr style=\"text-align: right;\">\n",
              "      <th></th>\n",
              "      <th>A_X</th>\n",
              "      <th>A_Y</th>\n",
              "      <th>A_Z</th>\n",
              "      <th>B_X</th>\n",
              "      <th>B_Y</th>\n",
              "      <th>B_Z</th>\n",
              "      <th>C_X</th>\n",
              "      <th>C_Y</th>\n",
              "      <th>C_Z</th>\n",
              "      <th>Time</th>\n",
              "      <th>Predict Time</th>\n",
              "    </tr>\n",
              "  </thead>\n",
              "  <tbody>\n",
              "    <tr>\n",
              "      <th>0</th>\n",
              "      <td>1670.0</td>\n",
              "      <td>-880.0</td>\n",
              "      <td>1205.0</td>\n",
              "      <td>375.0</td>\n",
              "      <td>-2600.0</td>\n",
              "      <td>467.0</td>\n",
              "      <td>783.87</td>\n",
              "      <td>-1966.89</td>\n",
              "      <td>843.66</td>\n",
              "      <td>2.304</td>\n",
              "      <td>2.284939</td>\n",
              "    </tr>\n",
              "    <tr>\n",
              "      <th>1</th>\n",
              "      <td>1650.0</td>\n",
              "      <td>880.0</td>\n",
              "      <td>1220.0</td>\n",
              "      <td>425.0</td>\n",
              "      <td>2072.5</td>\n",
              "      <td>482.0</td>\n",
              "      <td>782.93</td>\n",
              "      <td>1597.76</td>\n",
              "      <td>782.78</td>\n",
              "      <td>2.040</td>\n",
              "      <td>2.180547</td>\n",
              "    </tr>\n",
              "    <tr>\n",
              "      <th>2</th>\n",
              "      <td>1650.0</td>\n",
              "      <td>880.0</td>\n",
              "      <td>1220.0</td>\n",
              "      <td>425.0</td>\n",
              "      <td>2072.5</td>\n",
              "      <td>482.0</td>\n",
              "      <td>1089.18</td>\n",
              "      <td>1340.85</td>\n",
              "      <td>887.73</td>\n",
              "      <td>1.992</td>\n",
              "      <td>2.148544</td>\n",
              "    </tr>\n",
              "    <tr>\n",
              "      <th>3</th>\n",
              "      <td>1650.0</td>\n",
              "      <td>880.0</td>\n",
              "      <td>1220.0</td>\n",
              "      <td>950.0</td>\n",
              "      <td>2241.5</td>\n",
              "      <td>482.0</td>\n",
              "      <td>1393.72</td>\n",
              "      <td>1688.40</td>\n",
              "      <td>834.53</td>\n",
              "      <td>1.824</td>\n",
              "      <td>1.935602</td>\n",
              "    </tr>\n",
              "    <tr>\n",
              "      <th>4</th>\n",
              "      <td>1650.0</td>\n",
              "      <td>880.0</td>\n",
              "      <td>1220.0</td>\n",
              "      <td>600.0</td>\n",
              "      <td>2360.0</td>\n",
              "      <td>702.0</td>\n",
              "      <td>1122.02</td>\n",
              "      <td>1586.17</td>\n",
              "      <td>894.33</td>\n",
              "      <td>2.064</td>\n",
              "      <td>2.040468</td>\n",
              "    </tr>\n",
              "    <tr>\n",
              "      <th>...</th>\n",
              "      <td>...</td>\n",
              "      <td>...</td>\n",
              "      <td>...</td>\n",
              "      <td>...</td>\n",
              "      <td>...</td>\n",
              "      <td>...</td>\n",
              "      <td>...</td>\n",
              "      <td>...</td>\n",
              "      <td>...</td>\n",
              "      <td>...</td>\n",
              "      <td>...</td>\n",
              "    </tr>\n",
              "    <tr>\n",
              "      <th>511</th>\n",
              "      <td>1670.0</td>\n",
              "      <td>-880.0</td>\n",
              "      <td>1205.0</td>\n",
              "      <td>210.0</td>\n",
              "      <td>-2285.0</td>\n",
              "      <td>877.0</td>\n",
              "      <td>1071.35</td>\n",
              "      <td>-1599.50</td>\n",
              "      <td>1042.53</td>\n",
              "      <td>2.136</td>\n",
              "      <td>2.202258</td>\n",
              "    </tr>\n",
              "    <tr>\n",
              "      <th>512</th>\n",
              "      <td>1650.0</td>\n",
              "      <td>880.0</td>\n",
              "      <td>1220.0</td>\n",
              "      <td>775.0</td>\n",
              "      <td>2072.5</td>\n",
              "      <td>702.0</td>\n",
              "      <td>1236.00</td>\n",
              "      <td>1484.15</td>\n",
              "      <td>933.64</td>\n",
              "      <td>1.800</td>\n",
              "      <td>1.980791</td>\n",
              "    </tr>\n",
              "    <tr>\n",
              "      <th>513</th>\n",
              "      <td>1670.0</td>\n",
              "      <td>-880.0</td>\n",
              "      <td>1205.0</td>\n",
              "      <td>825.0</td>\n",
              "      <td>-2600.0</td>\n",
              "      <td>467.0</td>\n",
              "      <td>1328.92</td>\n",
              "      <td>-1545.59</td>\n",
              "      <td>1000.83</td>\n",
              "      <td>2.112</td>\n",
              "      <td>2.102412</td>\n",
              "    </tr>\n",
              "    <tr>\n",
              "      <th>514</th>\n",
              "      <td>1650.0</td>\n",
              "      <td>880.0</td>\n",
              "      <td>1220.0</td>\n",
              "      <td>662.5</td>\n",
              "      <td>2647.5</td>\n",
              "      <td>482.0</td>\n",
              "      <td>1098.43</td>\n",
              "      <td>1995.60</td>\n",
              "      <td>1773.55</td>\n",
              "      <td>2.640</td>\n",
              "      <td>2.435587</td>\n",
              "    </tr>\n",
              "    <tr>\n",
              "      <th>515</th>\n",
              "      <td>1650.0</td>\n",
              "      <td>880.0</td>\n",
              "      <td>1220.0</td>\n",
              "      <td>250.0</td>\n",
              "      <td>2241.5</td>\n",
              "      <td>702.0</td>\n",
              "      <td>984.60</td>\n",
              "      <td>1590.58</td>\n",
              "      <td>943.76</td>\n",
              "      <td>2.088</td>\n",
              "      <td>2.167737</td>\n",
              "    </tr>\n",
              "  </tbody>\n",
              "</table>\n",
              "<p>516 rows × 11 columns</p>\n",
              "</div>"
            ]
          },
          "metadata": {
            "tags": []
          },
          "execution_count": 27
        }
      ],
      "metadata": {
        "colab": {
          "base_uri": "https://localhost:8080/",
          "height": 414
        },
        "id": "pWUdTzbszFQX",
        "outputId": "5bfbb1a7-5efa-4805-c4a3-26eb233a570e"
      }
    },
    {
      "cell_type": "code",
      "execution_count": null,
      "source": [],
      "outputs": [],
      "metadata": {
        "id": "Rdsc2vAFzKDU"
      }
    },
    {
      "cell_type": "markdown",
      "source": [
        "### Try to save the model in Json"
      ],
      "metadata": {
        "id": "vorBB395x5Tw"
      }
    },
    {
      "cell_type": "code",
      "execution_count": null,
      "source": [
        "model_3_json = model_3.to_json"
      ],
      "outputs": [],
      "metadata": {
        "id": "NKB30aOo-qaG"
      }
    },
    {
      "cell_type": "code",
      "execution_count": null,
      "source": [
        "with open(\"model_3.json\", \"w\") as json_file:\n",
        "    json_file.write(model_3_json)\n",
        "\n",
        "# serialize weights to HDF5\n",
        "model.save_weights(\"model_3.h5\")\n",
        "print(\"Saved model to disk\")"
      ],
      "outputs": [
        {
          "output_type": "stream",
          "name": "stdout",
          "text": [
            "\n"
          ]
        },
        {
          "output_type": "error",
          "ename": "NameError",
          "evalue": "ignored",
          "traceback": [
            "\u001b[0;31m---------------------------------------------------------------------------\u001b[0m",
            "\u001b[0;31mNameError\u001b[0m                                 Traceback (most recent call last)",
            "\u001b[0;32m<ipython-input-73-beb63cef8d83>\u001b[0m in \u001b[0;36m<module>\u001b[0;34m()\u001b[0m\n\u001b[1;32m      4\u001b[0m \u001b[0;34m\u001b[0m\u001b[0m\n\u001b[1;32m      5\u001b[0m \u001b[0;31m# serialize weights to HDF5\u001b[0m\u001b[0;34m\u001b[0m\u001b[0;34m\u001b[0m\u001b[0;34m\u001b[0m\u001b[0m\n\u001b[0;32m----> 6\u001b[0;31m \u001b[0mmodel\u001b[0m\u001b[0;34m.\u001b[0m\u001b[0msave_weights\u001b[0m\u001b[0;34m(\u001b[0m\u001b[0;34m\"model.h5\"\u001b[0m\u001b[0;34m)\u001b[0m\u001b[0;34m\u001b[0m\u001b[0;34m\u001b[0m\u001b[0m\n\u001b[0m\u001b[1;32m      7\u001b[0m \u001b[0mprint\u001b[0m\u001b[0;34m(\u001b[0m\u001b[0;34m\"Saved model to disk\"\u001b[0m\u001b[0;34m)\u001b[0m\u001b[0;34m\u001b[0m\u001b[0;34m\u001b[0m\u001b[0m\n",
            "\u001b[0;31mNameError\u001b[0m: name 'model' is not defined"
          ]
        }
      ],
      "metadata": {
        "id": "TcCnBgBte2So",
        "colab": {
          "base_uri": "https://localhost:8080/",
          "height": 0
        },
        "outputId": "1c541de2-04af-44b4-d9ca-f5bc23c47470"
      }
    }
  ]
}